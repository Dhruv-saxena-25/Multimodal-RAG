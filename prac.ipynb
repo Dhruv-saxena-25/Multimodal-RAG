{
 "cells": [
  {
   "cell_type": "code",
   "execution_count": 3,
   "metadata": {},
   "outputs": [
    {
     "name": "stderr",
     "output_type": "stream",
     "text": [
      "c:\\Users\\Dhruv Saxena\\Desktop\\Projects\\Multimodal RAG\\multirag\\lib\\site-packages\\tqdm\\auto.py:21: TqdmWarning: IProgress not found. Please update jupyter and ipywidgets. See https://ipywidgets.readthedocs.io/en/stable/user_install.html\n",
      "  from .autonotebook import tqdm as notebook_tqdm\n"
     ]
    }
   ],
   "source": [
    "from langchain_community.vectorstores import FAISS\n",
    "from langchain_google_genai import ChatGoogleGenerativeAI\n",
    "from langchain_google_genai import GoogleGenerativeAIEmbeddings"
   ]
  },
  {
   "cell_type": "code",
   "execution_count": 4,
   "metadata": {},
   "outputs": [],
   "source": [
    "embedding=GoogleGenerativeAIEmbeddings(model=\"models/embedding-001\")"
   ]
  },
  {
   "cell_type": "code",
   "execution_count": 6,
   "metadata": {},
   "outputs": [
    {
     "data": {
      "text/plain": [
       "<langchain_community.vectorstores.faiss.FAISS at 0x2cd611c7c10>"
      ]
     },
     "execution_count": 6,
     "metadata": {},
     "output_type": "execute_result"
    }
   ],
   "source": [
    "vectorstore = FAISS.load_local(\"faiss_index\", embedding, allow_dangerous_deserialization= True)\n",
    "vectorstore"
   ]
  },
  {
   "cell_type": "code",
   "execution_count": 7,
   "metadata": {},
   "outputs": [
    {
     "data": {
      "text/plain": [
       "VectorStoreRetriever(tags=['FAISS', 'GoogleGenerativeAIEmbeddings'], vectorstore=<langchain_community.vectorstores.faiss.FAISS object at 0x000002CD611C7C10>)"
      ]
     },
     "execution_count": 7,
     "metadata": {},
     "output_type": "execute_result"
    }
   ],
   "source": [
    "retriever= vectorstore.as_retriever()\n",
    "retriever"
   ]
  },
  {
   "cell_type": "code",
   "execution_count": 10,
   "metadata": {},
   "outputs": [],
   "source": [
    "q = \"As shown above, a ray of light travels from medium 1 to medium 2, and then enters medium 3. The boundaries are parallel to each other. Arrange the speed of light, c, in the three media in ascending order.\""
   ]
  },
  {
   "cell_type": "code",
   "execution_count": 11,
   "metadata": {},
   "outputs": [
    {
     "data": {
      "text/plain": [
       "Document(metadata={'id': '0bb455e8-c159-4deb-adcd-ac3ebb2a68d5', 'type': 'image', 'original_content': '/9j/4AAQSkZJRgABAQAAAQABAAD/2wBDAAgGBgcGBQgHBwcJCQgKDBQNDAsLDBkSEw8UHRofHh0aHBwgJC4nICIsIxwcKDcpLDAxNDQ0Hyc5PTgyPC4zNDL/2wBDAQkJCQwLDBgNDRgyIRwhMjIyMjIyMjIyMjIyMjIyMjIyMjIyMjIyMjIyMjIyMjIyMjIyMjIyMjIyMjIyMjIyMjL/wAARCADzAbgDASIAAhEBAxEB/8QAHwAAAQUBAQEBAQEAAAAAAAAAAAECAwQFBgcICQoL/8QAtRAAAgEDAwIEAwUFBAQAAAF9AQIDAAQRBRIhMUEGE1FhByJxFDKBkaEII0KxwRVS0fAkM2JyggkKFhcYGRolJicoKSo0NTY3ODk6Q0RFRkdISUpTVFVWV1hZWmNkZWZnaGlqc3R1dnd4eXqDhIWGh4iJipKTlJWWl5iZmqKjpKWmp6ipqrKztLW2t7i5usLDxMXGx8jJytLT1NXW19jZ2uHi4+Tl5ufo6erx8vP09fb3+Pn6/8QAHwEAAwEBAQEBAQEBAQAAAAAAAAECAwQFBgcICQoL/8QAtREAAgECBAQDBAcFBAQAAQJ3AAECAxEEBSExBhJBUQdhcRMiMoEIFEKRobHBCSMzUvAVYnLRChYkNOEl8RcYGRomJygpKjU2Nzg5OkNERUZHSElKU1RVVldYWVpjZGVmZ2hpanN0dXZ3eHl6goOEhYaHiImKkpOUlZaXmJmaoqOkpaanqKmqsrO0tba3uLm6wsPExcbHyMnK0tPU1dbX2Nna4uPk5ebn6Onq8vP09fb3+Pn6/9oADAMBAAIRAxEAPwD3+iiigAqC8vLfT7SS6u5VigjGXdugFT1Be2VvqNnLaXUSywSrtdGGQRQAllfWuo2qXNnOk0LjKuhyCKsV49eaTrvwrv31DQxJfeG3bdPZkktDnuvtXpPh3xNpnijTI77TbgSIw+ZD95D6EetAGxRRRQAUUUUAFFFFABRRRQAUUUUAFFFFABRRRQAUUUUAFFFFABRRRQAUUUUAFFFFABRRRQAUUUUAFFFFABRRRQAUUUUAFFFFABRRRQAUUUUAFFFFABRRRQAUUUUAFFFFABRRRQAUUUUAFFFFACMqupVgCpGCD3ry7xF4E1Hw9qb+JPA58m4+9cWAHyTD2A716lRQByPgzx7p/iyJrfBttTg4ntJOGU+3tXXVwfjP4dprEq6voc39na5CdyTR8CTHZqreEfiHJLf/APCPeKIfsGsx/KGcbY5/dSeP1oA9FooooAKKKKACiiigAooooAKKKKACiiigAooooAKKKKACiiigAooooAKKKKACiiigAooooAKKKKACiiigAooooAKKKKACiiigAooooAKKKKACiiigAooooAKKKKACiiigAooooAKKKKACiiigArmvF3grTfF1j5dwvlXacw3MfDxt25rpaKAPJtE8X6t4G1KPw94yDSWzHba6oBlWHYN/+qvVopo54llikWSNhkMpyDVHWtD0/wAQabJYajbpNC46MOVPqPQ15csuu/CS+Ecom1Lwo7YD/ee2Hpz2/HtQB7FRVHSdXsdb0+K+0+4SaCQZVlNcZ4K8Rai3jHxB4c1ibzJreUS27EYzGQOB69TQB6DRRRQAUUUUAFFFFABRRRQAUUUUAFFFFABRRRQAUUUUAFFFFABRRRQAUUUUAFFFFABRRRQAUUUUAFFFFABRRRQAUUUUAFFFFABRRRQAUUUUAFFFFABRRRQAUUUUAFFFFABRRRQAUUUUAFRXFvDd28lvcRrJDIu10YZDD0qWuf8AFXhj/hJrWKIald2TRNuDW7AZ+uQaAOE1TwrrXw91GTW/B4afTGO+60w9AO5X8PbtWLqvi/TbvxV4f8ZaVJg7/sd/b/xITkZYfUiunbwP46sv+Qf42eSMf8srmLcD+WK878T/AAj8cX97JfR29i7kbpDbyCPeRznBY80AfSCOsiK6nKsAQR3FOrgfhv4vTUtKh0XUw1rrVkgikt5QVZgvAIz1yAOld9QAUUUUAZ2t61aaBpr396WEKEA7Rk8kD+tX45FljWRDlWGQa57xxod14h8NTafaFfOd0I3HA4YH+lb1tEYLWKInJRQCaAJaKKKACiiigAooooAKKKKACiiigAooooAKKKKACiiigAooooAKKKKACiiigAorzu18YeI9T8ba14btLWzR7GIOssmSATjGRnnr2pPC3jDxH4pt9Ss4bezg1HTp2hmndSYmYE4wuc849aAPRaK870r4h3U2mXtvfW8J1q1vfsPlxHCvISQCBknHynvVnUPFureH/F2labq0dtJZamfLikhQqVk44OSc9RQB3dc/ZeLrG/8AFt14ciinS7tYPOkMibRjIAx69RUWo+Ibh/EsWgaUsZuvK86eWQFliXkDIHckfrXFeG2v1+Oevm8SN7pdMX/VfKrcpjGc4oA9F0nxDYa1eaha2hkMthL5U+9cDdz09ehrVrjfDXiyXxBeeIraLT0sZ9NkWM7mD7nIbJJHX7tM8AeJtW8X+FLi/n+yxXiXckClUOzCgYyM57+tAHa0V5x4X8ca3rfgzW9WlgtTdafNKiqilVKoue569apJ478UXHw+i8XRW9gltHlp4WUlnXft+U7uPxzQB6pRXm2r+Otb03SNL8SNb2iaNePGpgYEzAOMg7gcdumK9IVtyK3qM0AQ3d5bWFs9zdzJDAgy0jnAFR6bqdpq9il7YzLNbuSFkU5BwcH+VZ3jCzt7vwnqpniDmOzmZM9jsPNYfwh/5JjpH0f/ANDNAHcUUUUAFFFFABRRRQAUUUUAFFFFABRRRQAUUUUAcp4t8D2niNEurdzZarDzDdxcMD6H1FZPh3xteWGpDw74vRbbUVwsV30iuR6g9AfrivQax/EfhnTfFGmPZahAGB+7IBh0PqD1FAGwCCMg5B70V5dZa7rHw7vo9K8SNJd6Ix222pYyU9n/AE55r0y3uYbu3Se3kWSJxlWU5BFAGN4t8SL4X0hb4wGYtKsQUHuTjNb1YXivw2nijSVsXnaHbKsgZRnkHOK3aACiiigAooooAKKKKACiiigAooooAKKKKACiiigAooooAKKKKACiiigAooooA8q8KTRD45+Lz5qYNtHg7hz92j4QzxDVfGYMqZOqFgNw5Hzc16RHo+mRXT3Uen2qXEnDyrCoZvqcZNFvo2l2jyPbadaQvJ99o4VUt9cDmgD5zuWeHxP4g1ZIzc2tnryyyxxscsuX545x7ivXLe98Hai9lPYRm/uxIrQqGdjG3HPzHjFdfDoulW5lMGm2cRl/1myBRv8Argc0600nTdPdns7C1t3b7zQwqhP5CgDzWO9Phb4zX91qreVZ6vbqkMz/AHEI7Z7cim6JqVo/x61qdJg0UunpGkgBKsw2cZ/A16de6bY6lGI76zt7pFOQs0YcA/Q0yHSNMt33wafaxtjGUhUHHpwKAPOPhtLG/izx8qyIWe9BUBh833+lV/hRrthoPh7UdL1KXyL6K/lcwEEsQQuMAdelen22kabZTPNa6fawSvyzxQqrN9SBSHRdLN79tOm2hus58/yV35/3sZoA8l+HUyRfDnxhHKfLcvdOA/HBj4qOwlj/AOGZ518xM+Swxu7+bXsP9l6eIZIfsNt5Un308pcN9RjmoxomlCyNmNMsxak5MIgXZ/3zjFAHkPjiaJvgV4bUSIT/AKJwGHZDmvaLd1e2iZGDKVGCDkdKqyaHpMtsltJplm8Ef3ImgUqv0GMCrscccMYjiRURRgKowBQBk+K5Y4vCOsGSRUzYzAbjjJ2Gud+D8iN8M9KVXUsofIB5Hzmu0ubS2vYjFdW8U8Z6pKgYfkabZ6fZ6fF5VlaQW0f92GMIPyFAFiiiigAorP1mLVpbMLo1za29zvBL3URkXb3GARz0rB+xeP8A/oNaF/4ASf8AxygDrqK5H7F4/wD+g1oX/gBJ/wDHKPsXj/8A6DWhf+AEn/xygDrqK5H7F4//AOg1oX/gBJ/8co+xeP8A/oNaF/4ASf8AxygDrqK5H7F4/wD+g1oX/gBJ/wDHKPsXj/8A6DWhf+AEn/xygDrqK5H7F4//AOg1oX/gBJ/8co+xeP8A/oNaF/4ASf8AxygDrqK5H7F4/wD+g1oX/gBJ/wDHKPsXj/8A6DWhf+AEn/xygDrqK5H7F4//AOg1oX/gBJ/8co+xeP8A/oNaF/4ASf8AxygDpr6wtdTs5LS8gSa3lG143GQRXmktjrfwxuTcaaJdR8MlsyWvJe1Hcr7d+1dL9i8f/wDQa0L/AMAJP/jlNfT/AB7IhR9Y0FlIwQbCTn/yJQBU8RePYl8Hwa1oFxFMJZo48sM7cnBBHrXd14D4y+H/AIj8P6fe67DdafPDuWSeztrZ0TIIO4Asec/zrufDOqeNfFGgW2rWetaEI5lyU+wyEo3dSfM6igD0WiuR+xeP/wDoNaF/4ASf/HKPsXj/AP6DWhf+AEn/AMcoA66iuR+xeP8A/oNaF/4ASf8Axyj7F4//AOg1oX/gBJ/8coA66iuR+xeP/wDoNaF/4ASf/HKPsXj/AP6DWhf+AEn/AMcoA66iuR+xeP8A/oNaF/4ASf8Axyj7F4//AOg1oX/gBJ/8coA66iuR+xeP/wDoNaF/4ASf/HKPsXj/AP6DWhf+AEn/AMcoA66iuR+xeP8A/oNaF/4ASf8Axyj7F4//AOg1oX/gBJ/8coA66iuR+xeP/wDoNaF/4ASf/HKPsXj/AP6DWhf+AEn/AMcoA66iuR+xeP8A/oNaF/4ASf8Axyj7F4//AOg1oX/gBJ/8coA66iuR+xeP/wDoNaF/4ASf/HKPsXj/AP6DWhf+AEn/AMcoA66iuR+xeP8A/oNaF/4ASf8Axyj7F4//AOg1oX/gBJ/8coA66iuR+xeP/wDoNaF/4ASf/HKPsXj/AP6DWhf+AEn/AMcoA66iuR+xeP8A/oNaF/4ASf8Axyj7F4//AOg1oX/gBJ/8coA66ioLNblLOFbySOS5CASvEpVWbuQCTgVPQAUUUUAFFFFABRRRQAUUUUAFFFFABRRRQAUUUUAFFFFABRRRQAUUUUAFFFFABRRRQAUUUUAFFFFAHDfFa5uLfwhsgkZPOnSKTABypIyK5DwlcSfDj4jXPhS640nUn8yyds4U54Ufnz9K9fvYbOeDZexwvFkHEoBGe3WuM+KnhJvEfho3VmrDVLA+bbOhwxx1UfXj8qAO8orj/hx4tHi3wtDPMQL+D91cpjBDDvj0rsKACiiigAooooAKKKKACiiigAooooAKKKKACiiigAooooAKKKKACiiigAooooAKKKKACiiigAooooAKKKKACiiigAooooAKKKKACiiigAooooAKKKKACiiigAooooAKKKKACiiigAooooA4b4pw3E3hiFbZHeT7VGcJ1xmu5IyCD0NIVDDDAH60tAHiupo/ww+KSaomE0HWiEmGcBHz19gNwNe0RyLLGsiMGRwGUjuDXP8AjbwvD4u8MXWlyACRl3Quf4XHQ/nXMfCTxPPf6bceHdTJGqaSxibf1dOzfrQB6TRRRQAUUUUAFFFFABRRRQAUUUUAFFFFABRRRQAUUUUAFFFFABRRRQAUUUUAFFFFABRRRQAUUUUAFFFFABRRRQAUUUUAFFFFABRRRQAUUUUAFFFFABRRRQAUUUUAFFFFABRRRQAUUUUAFFFFABXj3xGsJ/Bviyw8daXGREXEV+i9Cp43H8D+lei+Kxr39iO3hx4hfqQQJRkMO46da4a28f2WuWlx4Z8aWDaVeTIYiZVzG5PAIPr3oA2fH+uNL8Nn1PTLkos4iZXQ84LLxXXaK7SaJYu7FmaBCSe5xXztNqs+heGta8EajLuFvIstjJnIeMyKQAe55zX0PoX/ACALD/rgn8qANCiiigAooooAKKKKACiiigAooooAKKKKACiiigAooooAKKKKACiuW1bx5puj+I4NDuIbhrqcEx7FBBwCf6YqvYfESwvby609rG9t9St8f6FKq+ZID0IwSMfU0AdjRXOaB4xtNc1C7057W5sb+15ktrkANj1GCRjiodS8dWWnWM1+LK7uLGGTy5LmILtXHU8nOKAOpqpPqljb3kNnLdwrczNtjiLjcxxnp17VQuvFGmW2k2uoiXzIrvAgVPvSE9hXm3iO+F78avBpewms5VLhlmVdzfK3OQTQB6891bxzpA88SzSfcjZwGb6DvUtcfq174UfxrpS3kpbXEYx2qAuMZxn2PQVbTxnaN43PhVrO5S88jzxIwXYy89Oc9vSgDpaK5jR/G1prGu6vo6Wd1DdaWuZvNC4b6YJ9azYPifp15BqD2Om3901hJsmjjVcgdzycYFAHc0Vx0fxDsLzRF1XS7C91GHbulW3VcxexyR+ma39C1uz8RaRBqdg5aCUZGeoPofegDQd1jQu7BVAySxwBVa21PT71ylrfW07r1WKZWI/I1S1/Rn1xLa1eZ0s95a4VGKs4A4GR2z1rzHxh4YtfB/irw5qHhlXtrm6u/JlhV2IkXaxJI/CgD2aiiigAooooAKKKKACiiigAooooAKKKKACiiigAooooAKKKKACiiigArI1/wzpHiazNtqtnHOuMKxA3L9D2rXooA+dfHnwc1jTmTUNHuZNRs7UbhBKSXjUHOF65H5V7T4H1eDWvB+m3UDA4hVHH91wMEfga6BlDqVYZBGCD3rzKydvAXxEfTmwui60xkhbtFNnlfYHcfyoA9Ooo60UAFFFFABRRRQAUUUUAFFFFABRRRQAUUUUAFFFFABRRRQB5j4m/5Lv4S/69Jf5SUmmKD+0LrRIzjS0I/wDIddbf+DdP1HxRZ+IZri9W+tFKQ7JQEUHORjHue9Nh8F6fB4rm8SJd3wv5oxE/70bCvHGMew70AcDq09xB8a9aa2LeaNEDKF7nArR8D2LeJ/hjBYnVYxbyRNBcRm3G4N35z15611sfgrTo/FsniX7RetfyR+UwaUFCnpjHT8az1+GHh6K/kurY3lsJGLPBDKFjb6jFAHHTraaD418FaWtwbjSLWOVFlfkNKd+P5itLxsR/wufwNyP+Wn8mrtNZ8G6Nrmkw6ddW5WKAhoWiO14yOcg+tZx+G+jS39lfXVzqF3dWYxDLPMGIH/fNAHOePQB8XPAZA5Ly5P4pRKQP2j4iTgf2QP8A2euv1fwTp2s69Yazc3N6t1YEm3EcoCpnGeMewpuu+BtK1/UrfUriS7gvYF2LPbSBGK+hODkUAcj4HdX+M3jhlIIPl4I78LVb4Y/8eXj7/r/l/wDQWru9L8FaPo+qT6jZLNHczrtdt/tjjjrUOj+BNM0OLVI7O5vwNScvcb5gfmPUjjigDmvgyAPhYxA5M9xk/iak+BzFvh4MknF5KBn/AIDXTaD4LsPDeiS6Tp93frayFm+eUFlLdcHHFTeFvClh4Q01rDTZblrdnMm2eQNgnrjAFAGvdXUNlbSXFxIscUYLMxPQVzdlZrq2sr4i1HaiW6kWUZP3V7ufc8/ga0PEvhm18U6etje3N3DCHDkW0gQsRyM8H0rnY/hRoyOhbU9akVGB2PdAqcdiNvSgDuo5EmiWSNgyMMqw7iihEWONURQqqMADsKKAHUUUUAFFFFABRRRQAUUUUAFFFFABRRRQAUUUUAFFFFABRRRQAUUUUAFc5428Np4m8OT2gwtyn7y3k7o46GujooA5P4f+JH1/QBHeApqVm3kXUbcEMO+K6yvMfEsTeB/HNt4og3DTNRYQagg+6jZ4kP5n8q9LikSaJJY2DI4DKR3BoAfRRRQAUUUUAFFFFABRRRQAUUUUAFFFFABRRRQAUUUUAFFFFABRRRQAUUUUAFFFFABRRRQAUUUUAFFFFABRRRQAUUUUAFFFFABRRRQAUUUUAFFFFABRRRQAUUUUAFFFFABRRRQAUUUUAFFFFAGfrmj2uv6NdaZeLmG4QoTjOMjqPeuQ+HGs3MYvPCuqtjUNKbahJyZIuqt+uPwrv687+ImnXOlX1j4z0tM3NgwS6UDPmQE/N+QJNAHVa1rr6Tqmh2awLINSuzbsxbHlgRs+R6/dx+NbVYiW+m+KYdF1lXdhbSfarco3G4oVIPrwx/GtugAooooAKKKKACiiigAooooAKKKKACiiigAooooAKKKKACiiigAooooAKKKKACiiigAooooAKKKKACiiigAooqC8tIr+ymtJ9/lTIUfY5U4PoRyPwoAnork/+FceH/TUf/BlP/8AF0f8K48P+mo/+DKf/wCLoA6yiuT/AOFceH/TUf8AwZT/APxdH/CuPD/pqP8A4Mp//i6AOsork/8AhXHh/wBNR/8ABlP/APF0f8K48P8ApqP/AIMp/wD4ugDrKK5P/hXHh/01H/wZT/8AxdH/AArjw/6aj/4Mp/8A4ugDrKK5P/hXHh/01H/wZT//ABdH/CuPD/pqP/gyn/8Ai6AOsork/wDhXHh/01H/AMGU/wD8XR/wrjw/6aj/AODKf/4ugDrKK5P/AIVx4f8ATUf/AAZT/wDxdH/CuPD/AKaj/wCDKf8A+LoA6yiuT/4Vx4f9NR/8GU//AMXR/wAK48P+mo/+DKf/AOLoA6yiuT/4Vx4f9NR/8GU//wAXR/wrjw/6aj/4Mp//AIugDrKK5P8A4Vx4f9NR/wDBlP8A/F0f8K48P+mo/wDgyn/+LoA6yo7iCO6t5IJkDxSKUZT3BGDXL/8ACuPD/pqP/gyn/wDi6P8AhXHh/wBNR/8ABlP/APF0AeeWuqaj4B8c6d4WuLxoNGkvnnSaQgIYSjHYSegDkflXslvqmn3ZAtr61mz08uZWz+RrlLv4TeEL8qbyxubgr90zXsr4+mWrKufgpoJz/Z19qGnenkTtx+ZoA9LorxS/+CevAt/Z3jS/I/h+0XEg/PbWUfh9440YHdE2s45+TUp0z/48KAPoCivn0XUum/8AIb8Ea9HgZP2bU5X/APataNlr3w7nC/bYte07PX7Td3Ix+TGgD3GivMrCx+HGp7fsmszvuOBnU7hf5sK2ovAnhWf/AFNxeSf7mqzH+T0AdkSAQCQCenvS1554i+Flne6W66Pf6jZXqfMjm+mYE+hyxrk/CcGiSX7eH/FUOo2GsxnarNqM4S4H95Tvxz+FAHt9Fcl/wrnw9/1Ef/BlP/8AF0v/AArjw/6aj/4Mp/8A4ugDrKK5P/hXHh/01H/wZT//ABdH/CuPD/pqP/gyn/8Ai6AOsork/wDhXHh/01H/AMGU/wD8XR/wrjw/6aj/AODKf/4ugDrKK5P/AIVx4f8ATUf/AAZT/wDxdH/CuPD/AKaj/wCDKf8A+LoA6yiqOk6Ta6LYizs/N8kMWHmzNI2T7sSavUAFFFFABRRRQAUUUUAFFFFABRRRQAUUUUAFFFFABRRRQAUUUUAFFFFABRRRQAUUUUAFFFFABRRRQAUUUUAFFFFABRRRQAUUUUAct4quLqHxB4SSCWVI5dSZZlQkBl8mQ4b1GQK6mq9xeWttNbxXE8cclw/lwK5wXbBOB6nAJ/CrFABRRRQAVSu9I02//wCPywtrj/rrGG/nV2igDj9Q+F3g/Us+bo0Eef8Angoj/lWLL8G9NgydH1rVdNPby52bH6ivSqKAPMj4N8eaQD/ZPi77Xj7ovo85+vJrhviE/ipdMU+KLTSJ5YTuiureXZIp9sLn8K9G1e0+IGt6pPa2t1a6RpgbCzp88rD8xipNM+FGg284vNW83V74/elu23An2HagDl/g94+13WUXStVsbm4RBhL0L2/2s/z5r2SooLaG1iWKCJI0XgKowBUtABRRRQAUUUUAFFFFABRRRQAUUVyvxC1XVNC8H32raXPDHJaoGIkj37gWA45GOtAHVUVyUN94jv8Awfol7pX2aS8nSKS5M/AKlctj36V1i52jd1xzQAtFFFABRRRQAUVV1C5ktLKSWGEyy9EQd2PA/DNefav4j8aeGL2yvNUWxuNMuZ1iaGGPbJHu6fNk5/KgD0uiiigAooooAKKKKACiiigAooooAKKKKACiiigAooooAKKKKACiiigAooooAKKKKACiiigDk/FtvNN4i8IPFDI6RamzSMqkhB5EgyfQZIFdZRRQAUUUUAFFFFABRRRQAUUUUAFFFFABRRRQAUUUUAeWfGVp4B4dkt7qaBptQjhby2xxuBqn8TNM/wCEYbRdX0u6uIb2a+W3ml3kmQMCSSOnb0ra+Kui6vrY0JNK06W7+y3yXEpR1GFBHqR6Uz4o6VrXiLTtGh03SJ5nhvUuZfnQbFAII5PXmgCjrcCeE/ij4XXT5JlXUxJHdBnJEmCvJB78npU9nqdl4mn12XUBeSR+e9rbrHDIwjCj72VHX5v0qXxjpOtar498J6na6PPJa2DM1w29Bt3FeOvsar2OleLPBPiHUjpWmDVNJv5vNVBIFaEnr1I9qAMe38ReIPD/AICWw1Dz4ry41FbK0kl+95bMOfyJre+JXhmytfhjqMwDi5t4ULSbz853KDn8eateKvCOs+LfDhkuZo4dSimW4tYV+7GVwdufXj9ao643i/xL4BvdDm8Ny2948SRtK8qFZMMvK4bOeM80AZXiu71PSfhV4a1DT9UuLfeLaB4kxtZWXntntWn8Q8w+MPAksbOjzXm2QqxG4DZwR+Jqv4s8P+Ir/wCGuiaFb6RJNeWs0LSeW6gBUUjuevNavjzRNZ1VPDer6bYNLdaVP5zWbMoZgdvGc4/h9aAKusL5Hx78PJEzKktlK0ihjhjtfnH4VV06xe++NGv6ZNe3P2NLFXMQfhslCQfbJ7Vbl0rxPqXxA0PxPNpUcC28LRPCXBKBgw55689qn0rS9ZtvjBq+ty6RONPurRYEm3pjI284znHymgDG0rS1t/i1qnhRZ5v7Fa1W6NtvONxxxnrj5j3rX+Gl1Jb+IvFWgLJI1npt3iAO2doJPGfwos9K1pfjRe6++kTrp0tkLdZS6feGOcZz2qTwNo+saf468VX99pctta6jOJIJGdTkAn0PvQB6LjNeXfEG58SaNqWn6zcR2V7o1tON0KxsDHn5QxyeTzXe6/cava6U82i2sF1eKRiGZiAwzzgjvWDd22seMdJisNQ09tLt3ZWu1kZWL7SDhcE9wOvagDrbadLq1iuI/uSIHX6GinxxpDEscahUQBVA7CigB1FFFABRRRQAUUUUAFFFFABRRRQAUUUUAFFFFABRRRQAUUUUAFFFFABRRRQAUUUUAFFFFABRRRQAUUUUAFFFFABRRRQAUUUUAFFFFABRRRQAUUUUAFFFFABRRRQAUUUUAFFFFABRRRQAUUUUAFFFFAH/2Q=='}, page_content='The image shows a light ray passing through three different mediums. The light ray is refracted at each boundary between the mediums. The angle of refraction is different in each medium. The image is labeled with the names of the three mediums: medium 1, medium 2, and medium 3. The dashed lines represent the normal to the surface of the boundary.')"
      ]
     },
     "execution_count": 11,
     "metadata": {},
     "output_type": "execute_result"
    }
   ],
   "source": [
    "relevant_docs = vectorstore.similarity_search(q)\n",
    "relevant_docs[0]"
   ]
  },
  {
   "cell_type": "code",
   "execution_count": 20,
   "metadata": {},
   "outputs": [],
   "source": [
    "context = \"\"\n",
    "for d in relevant_docs:\n",
    "    if d.metadata['type']== \"text\":\n",
    "        context += '[text]' + d.metadata['original_content']"
   ]
  },
  {
   "cell_type": "code",
   "execution_count": 22,
   "metadata": {},
   "outputs": [
    {
     "name": "stdout",
     "output_type": "stream",
     "text": [
      "[text]paw>\n",
      "\n",
      "(1) only\n",
      "\n",
      "(3) only\n",
      "\n",
      "(1) and (2) only\n",
      "\n",
      "(2) and (3) only\n",
      "\n",
      "wall\n",
      "\n",
      "Two pulses, X and Y, are travelling along a string which is fixed at one end to the wall as shown in the figure above. Which of the following is a possible waveform of the string after the two pulses reflect ?\n",
      "\n",
      "A, wall\n",
      "\n",
      "B,\n",
      "\n",
      "wall\n",
      "\n",
      "wall\n",
      "\n",
      "wall\n",
      "\n",
      "PP-DSE-PHY 1A-9\n",
      "\n",
      "9\n",
      "\n",
      "19,\n",
      "\n",
      "vibrator : 90 cm 5 AAA AKA\n",
      "\n",
      "wall\n",
      "\n",
      "A stationary wave is set up along a string by a vibrator. The waveform at a certain instant is shown above. If the frequency of the vibrator is 50 Hz, what is the wave speed along the string ?\n",
      "\n",
      "1 A. isms\n",
      "\n",
      "B.\n",
      "\n",
      "30ms7\n",
      "\n",
      "Cc 45ms\"\n",
      "\n",
      "Dz ssms?\n",
      "\n",
      "20.\n",
      "\n",
      "t medium 1 medium 2 medium 3\n",
      "\n",
      "As shown above, a ray of light travels from medium 1 to medium 2, and then enters medium 3. The boundaries are parallel to each other. Arrange the speed of light, c, in the three media in ascending order.\n",
      "\n",
      "A. C3<02.<c)\n",
      "\n",
      "B. C3 <C) <p\n",
      "\n",
      "Cc. C2 <03< Cy\n",
      "\n",
      "D. C2 < Cc, < C3\n",
      "\n",
      "PP-DSE-PHY 1A-10\n",
      "\n",
      "10\n",
      "\n",
      "21,\n",
      "\n",
      "illuminated object liv lens screen u Q v 0 I/u Figure (a) Figure (b)\n",
      "\n",
      "A student uses the set-up in Figure (a) to study the relationship between the object distance u and the image distance v of a convex lens. A graph of 1/v against 1/u is plotted in Figure (b). If the lens is replaced by another convex lens of shorter focal length, which of the following graphs (in dotted lines) would be obtained ?\n",
      "\n",
      "B.\n",
      "\n",
      "Ay iy 0 I/u 0 Wu\n",
      "\n",
      "PP-DSE-PHY 1A-11\n",
      "\n",
      "*22.\n",
      "\n",
      "light source [ . screen double slit\n",
      "\n",
      "In a Young’s double slit experiment, a monochromatic light source of wavelength 600 nm is used. The fringe separation is 5 mm on the screen. If the slit separation is halved and a monochromatic light source of wavelength 450 nm is used instead, what is the new fringe separation ?\n",
      "\n",
      "A. 1.9mm\n",
      "\n",
      "B 3.3 mm\n",
      "\n",
      "Cc. 7.5mm\n",
      "\n",
      "D. 13.3 mm\n",
      "\n",
      "Yellow light of wavelength 590 nm is incident normally on a diffraction grating with 400 lines per mm. Find the difference in angular positions for the third order and the fourth order bright fringes.\n",
      "\n",
      "A.\n",
      "\n",
      "13.7°\n",
      "\n",
      "B. 25.7°\n",
      "\n",
      "Cc 45.1°\n",
      "\n",
      "D 70.7°\n",
      "\n",
      "24,\n",
      "\n",
      "oo , a, See OK OO\n",
      "\n",
      "Three identical point charges q (represented by dots) are situated in the space as shown. Which of the following descriptions about the direction and magnitude of the electric field E at X and at Y is correct ?[text]vaAy>\n",
      "\n",
      "(1) and (3) only\n",
      "\n",
      "(2) and (3) only\n",
      "\n",
      "(1), (2) and (3)\n",
      "\n",
      "PP-DSE-PHY 1A-3\n",
      "\n",
      "3\n",
      "\n",
      "N { Sminis 10min5s\n",
      "\n",
      "10min5s\n",
      "\n",
      "A toy car travelled due east for 10 m in 5 s, then immediately turned north and travelled 5 m for 1 s. What was the average speed of the car ?\n",
      "\n",
      "A. 1oms\n",
      "\n",
      "B.\n",
      "\n",
      "2.2ms\"\n",
      "\n",
      "C. 2.5ms!\n",
      "\n",
      "Dz 3.5ms!\n",
      "\n",
      "7. A stone falls from rest. Neglecting air resistance, the ratio of the distance travelled by the stone in the 1 second to that travelled in the 2\" second is\n",
      "\n",
      "1:\n",
      "\n",
      "cap\n",
      "\n",
      "wn\n",
      "\n",
      "1:\n",
      "\n",
      "1:\n",
      "\n",
      "1:\n",
      "\n",
      "r N\n",
      "\n",
      "A block of weight 100 N is placed on a horizontal table and a vertical force of 60 N is exerted on the block as shown in the figure above. Which of the following statements is/are correct ?\n",
      "\n",
      "(1) The weight of the block is balanced by the force exerted on the block by the table.\n",
      "\n",
      "(2)\n",
      "\n",
      "The weight of the block and the force exerted on the table by the block are equal in magnitude.\n",
      "\n",
      "(3) The force exerted on the table by the block and the force exerted on the block by the table are an action-reaction pair.\n",
      "\n",
      "A. (1) only\n",
      "\n",
      "B. (3) only\n",
      "\n",
      "Cc (1) and (2) only\n",
      "\n",
      "D. (2) and (3) only\n",
      "\n",
      "PP-DSE-PHY 1A-4+\n",
      "\n",
      "4\n",
      "\n",
      "9. Blocks, P, Q and R, connected by light inextensible threads, are placed on a smooth horizontal surface as shown. A constant force F is applied to P so that the whole system travels to the right with acceleration.\n",
      "\n",
      "plasticine\n",
      "\n",
      "x\n",
      "\n",
      "A lump of plasticine is placed on Q and it moves together with Q. If the applied force F remains unchanged, how would the tensions 7, and T> in the two threads change ?\n",
      "\n",
      "Tension 7, Tension 7,\n",
      "\n",
      "A. increase decrease\n",
      "\n",
      "B. increase increase\n",
      "\n",
      "Cc. decrease decrease\n",
      "\n",
      "Dz. decrease increase\n",
      "\n",
      "10.\n",
      "\n",
      "v smooth inclined lane : 0 t Figure (a) Figure (b)\n",
      "\n",
      "As shown in Figure (a), a block slides down along a smooth inclined plane from rest. The corresponding speed-time graph of its motion is shown in Figure (b). Which of the following speed-time graphs (in dotted lines) best represents the motion of the block if it is released at a higher position on the plane instead ? Assume that the friction between the ground and the block remains unchanged.\n"
     ]
    }
   ],
   "source": [
    "print(context)"
   ]
  },
  {
   "cell_type": "code",
   "execution_count": null,
   "metadata": {},
   "outputs": [],
   "source": []
  }
 ],
 "metadata": {
  "kernelspec": {
   "display_name": "Python 3",
   "language": "python",
   "name": "python3"
  },
  "language_info": {
   "codemirror_mode": {
    "name": "ipython",
    "version": 3
   },
   "file_extension": ".py",
   "mimetype": "text/x-python",
   "name": "python",
   "nbconvert_exporter": "python",
   "pygments_lexer": "ipython3",
   "version": "3.10.0"
  }
 },
 "nbformat": 4,
 "nbformat_minor": 2
}
