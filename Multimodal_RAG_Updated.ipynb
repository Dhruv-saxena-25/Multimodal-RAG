{
  "nbformat": 4,
  "nbformat_minor": 0,
  "metadata": {
    "colab": {
      "provenance": [],
      "machine_shape": "hm",
      "gpuType": "T4"
    },
    "kernelspec": {
      "name": "python3",
      "display_name": "Python 3"
    },
    "language_info": {
      "name": "python"
    },
    "accelerator": "GPU",
    "widgets": {
      "application/vnd.jupyter.widget-state+json": {
        "5e54ff063204446fa441fc3f4d18d267": {
          "model_module": "@jupyter-widgets/controls",
          "model_name": "HBoxModel",
          "model_module_version": "1.5.0",
          "state": {
            "_dom_classes": [],
            "_model_module": "@jupyter-widgets/controls",
            "_model_module_version": "1.5.0",
            "_model_name": "HBoxModel",
            "_view_count": null,
            "_view_module": "@jupyter-widgets/controls",
            "_view_module_version": "1.5.0",
            "_view_name": "HBoxView",
            "box_style": "",
            "children": [
              "IPY_MODEL_7c43bad8722944eda8f984a5856987be",
              "IPY_MODEL_04f729c9e5ec41988f5e9b93e35c5209",
              "IPY_MODEL_12c3ae353d2b4cddaafd526418b20338"
            ],
            "layout": "IPY_MODEL_ad5acdba602541279a4374dc5529ecea"
          }
        },
        "7c43bad8722944eda8f984a5856987be": {
          "model_module": "@jupyter-widgets/controls",
          "model_name": "HTMLModel",
          "model_module_version": "1.5.0",
          "state": {
            "_dom_classes": [],
            "_model_module": "@jupyter-widgets/controls",
            "_model_module_version": "1.5.0",
            "_model_name": "HTMLModel",
            "_view_count": null,
            "_view_module": "@jupyter-widgets/controls",
            "_view_module_version": "1.5.0",
            "_view_name": "HTMLView",
            "description": "",
            "description_tooltip": null,
            "layout": "IPY_MODEL_31eeb5a79e2d4811a231293359d6be14",
            "placeholder": "​",
            "style": "IPY_MODEL_adeb30f453444a3ba1850f8d6946276c",
            "value": "yolox_l0.05.onnx: 100%"
          }
        },
        "04f729c9e5ec41988f5e9b93e35c5209": {
          "model_module": "@jupyter-widgets/controls",
          "model_name": "FloatProgressModel",
          "model_module_version": "1.5.0",
          "state": {
            "_dom_classes": [],
            "_model_module": "@jupyter-widgets/controls",
            "_model_module_version": "1.5.0",
            "_model_name": "FloatProgressModel",
            "_view_count": null,
            "_view_module": "@jupyter-widgets/controls",
            "_view_module_version": "1.5.0",
            "_view_name": "ProgressView",
            "bar_style": "success",
            "description": "",
            "description_tooltip": null,
            "layout": "IPY_MODEL_4e0a1aa44d65406094027386e0412a15",
            "max": 216625723,
            "min": 0,
            "orientation": "horizontal",
            "style": "IPY_MODEL_a047d1b156da436a87961998675495fe",
            "value": 216625723
          }
        },
        "12c3ae353d2b4cddaafd526418b20338": {
          "model_module": "@jupyter-widgets/controls",
          "model_name": "HTMLModel",
          "model_module_version": "1.5.0",
          "state": {
            "_dom_classes": [],
            "_model_module": "@jupyter-widgets/controls",
            "_model_module_version": "1.5.0",
            "_model_name": "HTMLModel",
            "_view_count": null,
            "_view_module": "@jupyter-widgets/controls",
            "_view_module_version": "1.5.0",
            "_view_name": "HTMLView",
            "description": "",
            "description_tooltip": null,
            "layout": "IPY_MODEL_e0dc158bc75a43d99996d77cecdebfa8",
            "placeholder": "​",
            "style": "IPY_MODEL_223993b1ed524906a6753d10009742f1",
            "value": " 217M/217M [00:01&lt;00:00, 186MB/s]"
          }
        },
        "ad5acdba602541279a4374dc5529ecea": {
          "model_module": "@jupyter-widgets/base",
          "model_name": "LayoutModel",
          "model_module_version": "1.2.0",
          "state": {
            "_model_module": "@jupyter-widgets/base",
            "_model_module_version": "1.2.0",
            "_model_name": "LayoutModel",
            "_view_count": null,
            "_view_module": "@jupyter-widgets/base",
            "_view_module_version": "1.2.0",
            "_view_name": "LayoutView",
            "align_content": null,
            "align_items": null,
            "align_self": null,
            "border": null,
            "bottom": null,
            "display": null,
            "flex": null,
            "flex_flow": null,
            "grid_area": null,
            "grid_auto_columns": null,
            "grid_auto_flow": null,
            "grid_auto_rows": null,
            "grid_column": null,
            "grid_gap": null,
            "grid_row": null,
            "grid_template_areas": null,
            "grid_template_columns": null,
            "grid_template_rows": null,
            "height": null,
            "justify_content": null,
            "justify_items": null,
            "left": null,
            "margin": null,
            "max_height": null,
            "max_width": null,
            "min_height": null,
            "min_width": null,
            "object_fit": null,
            "object_position": null,
            "order": null,
            "overflow": null,
            "overflow_x": null,
            "overflow_y": null,
            "padding": null,
            "right": null,
            "top": null,
            "visibility": null,
            "width": null
          }
        },
        "31eeb5a79e2d4811a231293359d6be14": {
          "model_module": "@jupyter-widgets/base",
          "model_name": "LayoutModel",
          "model_module_version": "1.2.0",
          "state": {
            "_model_module": "@jupyter-widgets/base",
            "_model_module_version": "1.2.0",
            "_model_name": "LayoutModel",
            "_view_count": null,
            "_view_module": "@jupyter-widgets/base",
            "_view_module_version": "1.2.0",
            "_view_name": "LayoutView",
            "align_content": null,
            "align_items": null,
            "align_self": null,
            "border": null,
            "bottom": null,
            "display": null,
            "flex": null,
            "flex_flow": null,
            "grid_area": null,
            "grid_auto_columns": null,
            "grid_auto_flow": null,
            "grid_auto_rows": null,
            "grid_column": null,
            "grid_gap": null,
            "grid_row": null,
            "grid_template_areas": null,
            "grid_template_columns": null,
            "grid_template_rows": null,
            "height": null,
            "justify_content": null,
            "justify_items": null,
            "left": null,
            "margin": null,
            "max_height": null,
            "max_width": null,
            "min_height": null,
            "min_width": null,
            "object_fit": null,
            "object_position": null,
            "order": null,
            "overflow": null,
            "overflow_x": null,
            "overflow_y": null,
            "padding": null,
            "right": null,
            "top": null,
            "visibility": null,
            "width": null
          }
        },
        "adeb30f453444a3ba1850f8d6946276c": {
          "model_module": "@jupyter-widgets/controls",
          "model_name": "DescriptionStyleModel",
          "model_module_version": "1.5.0",
          "state": {
            "_model_module": "@jupyter-widgets/controls",
            "_model_module_version": "1.5.0",
            "_model_name": "DescriptionStyleModel",
            "_view_count": null,
            "_view_module": "@jupyter-widgets/base",
            "_view_module_version": "1.2.0",
            "_view_name": "StyleView",
            "description_width": ""
          }
        },
        "4e0a1aa44d65406094027386e0412a15": {
          "model_module": "@jupyter-widgets/base",
          "model_name": "LayoutModel",
          "model_module_version": "1.2.0",
          "state": {
            "_model_module": "@jupyter-widgets/base",
            "_model_module_version": "1.2.0",
            "_model_name": "LayoutModel",
            "_view_count": null,
            "_view_module": "@jupyter-widgets/base",
            "_view_module_version": "1.2.0",
            "_view_name": "LayoutView",
            "align_content": null,
            "align_items": null,
            "align_self": null,
            "border": null,
            "bottom": null,
            "display": null,
            "flex": null,
            "flex_flow": null,
            "grid_area": null,
            "grid_auto_columns": null,
            "grid_auto_flow": null,
            "grid_auto_rows": null,
            "grid_column": null,
            "grid_gap": null,
            "grid_row": null,
            "grid_template_areas": null,
            "grid_template_columns": null,
            "grid_template_rows": null,
            "height": null,
            "justify_content": null,
            "justify_items": null,
            "left": null,
            "margin": null,
            "max_height": null,
            "max_width": null,
            "min_height": null,
            "min_width": null,
            "object_fit": null,
            "object_position": null,
            "order": null,
            "overflow": null,
            "overflow_x": null,
            "overflow_y": null,
            "padding": null,
            "right": null,
            "top": null,
            "visibility": null,
            "width": null
          }
        },
        "a047d1b156da436a87961998675495fe": {
          "model_module": "@jupyter-widgets/controls",
          "model_name": "ProgressStyleModel",
          "model_module_version": "1.5.0",
          "state": {
            "_model_module": "@jupyter-widgets/controls",
            "_model_module_version": "1.5.0",
            "_model_name": "ProgressStyleModel",
            "_view_count": null,
            "_view_module": "@jupyter-widgets/base",
            "_view_module_version": "1.2.0",
            "_view_name": "StyleView",
            "bar_color": null,
            "description_width": ""
          }
        },
        "e0dc158bc75a43d99996d77cecdebfa8": {
          "model_module": "@jupyter-widgets/base",
          "model_name": "LayoutModel",
          "model_module_version": "1.2.0",
          "state": {
            "_model_module": "@jupyter-widgets/base",
            "_model_module_version": "1.2.0",
            "_model_name": "LayoutModel",
            "_view_count": null,
            "_view_module": "@jupyter-widgets/base",
            "_view_module_version": "1.2.0",
            "_view_name": "LayoutView",
            "align_content": null,
            "align_items": null,
            "align_self": null,
            "border": null,
            "bottom": null,
            "display": null,
            "flex": null,
            "flex_flow": null,
            "grid_area": null,
            "grid_auto_columns": null,
            "grid_auto_flow": null,
            "grid_auto_rows": null,
            "grid_column": null,
            "grid_gap": null,
            "grid_row": null,
            "grid_template_areas": null,
            "grid_template_columns": null,
            "grid_template_rows": null,
            "height": null,
            "justify_content": null,
            "justify_items": null,
            "left": null,
            "margin": null,
            "max_height": null,
            "max_width": null,
            "min_height": null,
            "min_width": null,
            "object_fit": null,
            "object_position": null,
            "order": null,
            "overflow": null,
            "overflow_x": null,
            "overflow_y": null,
            "padding": null,
            "right": null,
            "top": null,
            "visibility": null,
            "width": null
          }
        },
        "223993b1ed524906a6753d10009742f1": {
          "model_module": "@jupyter-widgets/controls",
          "model_name": "DescriptionStyleModel",
          "model_module_version": "1.5.0",
          "state": {
            "_model_module": "@jupyter-widgets/controls",
            "_model_module_version": "1.5.0",
            "_model_name": "DescriptionStyleModel",
            "_view_count": null,
            "_view_module": "@jupyter-widgets/base",
            "_view_module_version": "1.2.0",
            "_view_name": "StyleView",
            "description_width": ""
          }
        },
        "ef2f67fc794d4779bf25b1761829fa11": {
          "model_module": "@jupyter-widgets/controls",
          "model_name": "HBoxModel",
          "model_module_version": "1.5.0",
          "state": {
            "_dom_classes": [],
            "_model_module": "@jupyter-widgets/controls",
            "_model_module_version": "1.5.0",
            "_model_name": "HBoxModel",
            "_view_count": null,
            "_view_module": "@jupyter-widgets/controls",
            "_view_module_version": "1.5.0",
            "_view_name": "HBoxView",
            "box_style": "",
            "children": [
              "IPY_MODEL_6cfa4ca02ff84a96894c06a025a07e7c",
              "IPY_MODEL_047f3cfaa2704fd7b582ea941a8b08e9",
              "IPY_MODEL_0e063be1ba154e6b9864749243348c03"
            ],
            "layout": "IPY_MODEL_4497487d54394c93b8222b90e9e00bfc"
          }
        },
        "6cfa4ca02ff84a96894c06a025a07e7c": {
          "model_module": "@jupyter-widgets/controls",
          "model_name": "HTMLModel",
          "model_module_version": "1.5.0",
          "state": {
            "_dom_classes": [],
            "_model_module": "@jupyter-widgets/controls",
            "_model_module_version": "1.5.0",
            "_model_name": "HTMLModel",
            "_view_count": null,
            "_view_module": "@jupyter-widgets/controls",
            "_view_module_version": "1.5.0",
            "_view_name": "HTMLView",
            "description": "",
            "description_tooltip": null,
            "layout": "IPY_MODEL_4f3467796b7a4486b4f10eb983939a2d",
            "placeholder": "​",
            "style": "IPY_MODEL_39346d0279c94712854e49cfd7f76e44",
            "value": "config.json: 100%"
          }
        },
        "047f3cfaa2704fd7b582ea941a8b08e9": {
          "model_module": "@jupyter-widgets/controls",
          "model_name": "FloatProgressModel",
          "model_module_version": "1.5.0",
          "state": {
            "_dom_classes": [],
            "_model_module": "@jupyter-widgets/controls",
            "_model_module_version": "1.5.0",
            "_model_name": "FloatProgressModel",
            "_view_count": null,
            "_view_module": "@jupyter-widgets/controls",
            "_view_module_version": "1.5.0",
            "_view_name": "ProgressView",
            "bar_style": "success",
            "description": "",
            "description_tooltip": null,
            "layout": "IPY_MODEL_0242442d28d54f24906116408c1a981c",
            "max": 1469,
            "min": 0,
            "orientation": "horizontal",
            "style": "IPY_MODEL_53e48fe290d54e268574cd26cfcc0036",
            "value": 1469
          }
        },
        "0e063be1ba154e6b9864749243348c03": {
          "model_module": "@jupyter-widgets/controls",
          "model_name": "HTMLModel",
          "model_module_version": "1.5.0",
          "state": {
            "_dom_classes": [],
            "_model_module": "@jupyter-widgets/controls",
            "_model_module_version": "1.5.0",
            "_model_name": "HTMLModel",
            "_view_count": null,
            "_view_module": "@jupyter-widgets/controls",
            "_view_module_version": "1.5.0",
            "_view_name": "HTMLView",
            "description": "",
            "description_tooltip": null,
            "layout": "IPY_MODEL_63e8f120a60d4ed19e7eb8047d485d55",
            "placeholder": "​",
            "style": "IPY_MODEL_a782fef924b947a2b74b6f76a8842075",
            "value": " 1.47k/1.47k [00:00&lt;00:00, 136kB/s]"
          }
        },
        "4497487d54394c93b8222b90e9e00bfc": {
          "model_module": "@jupyter-widgets/base",
          "model_name": "LayoutModel",
          "model_module_version": "1.2.0",
          "state": {
            "_model_module": "@jupyter-widgets/base",
            "_model_module_version": "1.2.0",
            "_model_name": "LayoutModel",
            "_view_count": null,
            "_view_module": "@jupyter-widgets/base",
            "_view_module_version": "1.2.0",
            "_view_name": "LayoutView",
            "align_content": null,
            "align_items": null,
            "align_self": null,
            "border": null,
            "bottom": null,
            "display": null,
            "flex": null,
            "flex_flow": null,
            "grid_area": null,
            "grid_auto_columns": null,
            "grid_auto_flow": null,
            "grid_auto_rows": null,
            "grid_column": null,
            "grid_gap": null,
            "grid_row": null,
            "grid_template_areas": null,
            "grid_template_columns": null,
            "grid_template_rows": null,
            "height": null,
            "justify_content": null,
            "justify_items": null,
            "left": null,
            "margin": null,
            "max_height": null,
            "max_width": null,
            "min_height": null,
            "min_width": null,
            "object_fit": null,
            "object_position": null,
            "order": null,
            "overflow": null,
            "overflow_x": null,
            "overflow_y": null,
            "padding": null,
            "right": null,
            "top": null,
            "visibility": null,
            "width": null
          }
        },
        "4f3467796b7a4486b4f10eb983939a2d": {
          "model_module": "@jupyter-widgets/base",
          "model_name": "LayoutModel",
          "model_module_version": "1.2.0",
          "state": {
            "_model_module": "@jupyter-widgets/base",
            "_model_module_version": "1.2.0",
            "_model_name": "LayoutModel",
            "_view_count": null,
            "_view_module": "@jupyter-widgets/base",
            "_view_module_version": "1.2.0",
            "_view_name": "LayoutView",
            "align_content": null,
            "align_items": null,
            "align_self": null,
            "border": null,
            "bottom": null,
            "display": null,
            "flex": null,
            "flex_flow": null,
            "grid_area": null,
            "grid_auto_columns": null,
            "grid_auto_flow": null,
            "grid_auto_rows": null,
            "grid_column": null,
            "grid_gap": null,
            "grid_row": null,
            "grid_template_areas": null,
            "grid_template_columns": null,
            "grid_template_rows": null,
            "height": null,
            "justify_content": null,
            "justify_items": null,
            "left": null,
            "margin": null,
            "max_height": null,
            "max_width": null,
            "min_height": null,
            "min_width": null,
            "object_fit": null,
            "object_position": null,
            "order": null,
            "overflow": null,
            "overflow_x": null,
            "overflow_y": null,
            "padding": null,
            "right": null,
            "top": null,
            "visibility": null,
            "width": null
          }
        },
        "39346d0279c94712854e49cfd7f76e44": {
          "model_module": "@jupyter-widgets/controls",
          "model_name": "DescriptionStyleModel",
          "model_module_version": "1.5.0",
          "state": {
            "_model_module": "@jupyter-widgets/controls",
            "_model_module_version": "1.5.0",
            "_model_name": "DescriptionStyleModel",
            "_view_count": null,
            "_view_module": "@jupyter-widgets/base",
            "_view_module_version": "1.2.0",
            "_view_name": "StyleView",
            "description_width": ""
          }
        },
        "0242442d28d54f24906116408c1a981c": {
          "model_module": "@jupyter-widgets/base",
          "model_name": "LayoutModel",
          "model_module_version": "1.2.0",
          "state": {
            "_model_module": "@jupyter-widgets/base",
            "_model_module_version": "1.2.0",
            "_model_name": "LayoutModel",
            "_view_count": null,
            "_view_module": "@jupyter-widgets/base",
            "_view_module_version": "1.2.0",
            "_view_name": "LayoutView",
            "align_content": null,
            "align_items": null,
            "align_self": null,
            "border": null,
            "bottom": null,
            "display": null,
            "flex": null,
            "flex_flow": null,
            "grid_area": null,
            "grid_auto_columns": null,
            "grid_auto_flow": null,
            "grid_auto_rows": null,
            "grid_column": null,
            "grid_gap": null,
            "grid_row": null,
            "grid_template_areas": null,
            "grid_template_columns": null,
            "grid_template_rows": null,
            "height": null,
            "justify_content": null,
            "justify_items": null,
            "left": null,
            "margin": null,
            "max_height": null,
            "max_width": null,
            "min_height": null,
            "min_width": null,
            "object_fit": null,
            "object_position": null,
            "order": null,
            "overflow": null,
            "overflow_x": null,
            "overflow_y": null,
            "padding": null,
            "right": null,
            "top": null,
            "visibility": null,
            "width": null
          }
        },
        "53e48fe290d54e268574cd26cfcc0036": {
          "model_module": "@jupyter-widgets/controls",
          "model_name": "ProgressStyleModel",
          "model_module_version": "1.5.0",
          "state": {
            "_model_module": "@jupyter-widgets/controls",
            "_model_module_version": "1.5.0",
            "_model_name": "ProgressStyleModel",
            "_view_count": null,
            "_view_module": "@jupyter-widgets/base",
            "_view_module_version": "1.2.0",
            "_view_name": "StyleView",
            "bar_color": null,
            "description_width": ""
          }
        },
        "63e8f120a60d4ed19e7eb8047d485d55": {
          "model_module": "@jupyter-widgets/base",
          "model_name": "LayoutModel",
          "model_module_version": "1.2.0",
          "state": {
            "_model_module": "@jupyter-widgets/base",
            "_model_module_version": "1.2.0",
            "_model_name": "LayoutModel",
            "_view_count": null,
            "_view_module": "@jupyter-widgets/base",
            "_view_module_version": "1.2.0",
            "_view_name": "LayoutView",
            "align_content": null,
            "align_items": null,
            "align_self": null,
            "border": null,
            "bottom": null,
            "display": null,
            "flex": null,
            "flex_flow": null,
            "grid_area": null,
            "grid_auto_columns": null,
            "grid_auto_flow": null,
            "grid_auto_rows": null,
            "grid_column": null,
            "grid_gap": null,
            "grid_row": null,
            "grid_template_areas": null,
            "grid_template_columns": null,
            "grid_template_rows": null,
            "height": null,
            "justify_content": null,
            "justify_items": null,
            "left": null,
            "margin": null,
            "max_height": null,
            "max_width": null,
            "min_height": null,
            "min_width": null,
            "object_fit": null,
            "object_position": null,
            "order": null,
            "overflow": null,
            "overflow_x": null,
            "overflow_y": null,
            "padding": null,
            "right": null,
            "top": null,
            "visibility": null,
            "width": null
          }
        },
        "a782fef924b947a2b74b6f76a8842075": {
          "model_module": "@jupyter-widgets/controls",
          "model_name": "DescriptionStyleModel",
          "model_module_version": "1.5.0",
          "state": {
            "_model_module": "@jupyter-widgets/controls",
            "_model_module_version": "1.5.0",
            "_model_name": "DescriptionStyleModel",
            "_view_count": null,
            "_view_module": "@jupyter-widgets/base",
            "_view_module_version": "1.2.0",
            "_view_name": "StyleView",
            "description_width": ""
          }
        },
        "db04bee54921411ebe195672a62cbf74": {
          "model_module": "@jupyter-widgets/controls",
          "model_name": "HBoxModel",
          "model_module_version": "1.5.0",
          "state": {
            "_dom_classes": [],
            "_model_module": "@jupyter-widgets/controls",
            "_model_module_version": "1.5.0",
            "_model_name": "HBoxModel",
            "_view_count": null,
            "_view_module": "@jupyter-widgets/controls",
            "_view_module_version": "1.5.0",
            "_view_name": "HBoxView",
            "box_style": "",
            "children": [
              "IPY_MODEL_bdb4635003764985bf06cebec12a8f4c",
              "IPY_MODEL_1c8819f20b1246418cf270a45f2d0087",
              "IPY_MODEL_245db05e164b46868e9db1614e931bae"
            ],
            "layout": "IPY_MODEL_6daedf2e105a4c0db3f5ffe9a8712730"
          }
        },
        "bdb4635003764985bf06cebec12a8f4c": {
          "model_module": "@jupyter-widgets/controls",
          "model_name": "HTMLModel",
          "model_module_version": "1.5.0",
          "state": {
            "_dom_classes": [],
            "_model_module": "@jupyter-widgets/controls",
            "_model_module_version": "1.5.0",
            "_model_name": "HTMLModel",
            "_view_count": null,
            "_view_module": "@jupyter-widgets/controls",
            "_view_module_version": "1.5.0",
            "_view_name": "HTMLView",
            "description": "",
            "description_tooltip": null,
            "layout": "IPY_MODEL_f53d2bab3cf049c0bf23ef2aabfc93cb",
            "placeholder": "​",
            "style": "IPY_MODEL_4e2d9a61897c48a8b4b5180706c9263c",
            "value": "model.safetensors: 100%"
          }
        },
        "1c8819f20b1246418cf270a45f2d0087": {
          "model_module": "@jupyter-widgets/controls",
          "model_name": "FloatProgressModel",
          "model_module_version": "1.5.0",
          "state": {
            "_dom_classes": [],
            "_model_module": "@jupyter-widgets/controls",
            "_model_module_version": "1.5.0",
            "_model_name": "FloatProgressModel",
            "_view_count": null,
            "_view_module": "@jupyter-widgets/controls",
            "_view_module_version": "1.5.0",
            "_view_name": "ProgressView",
            "bar_style": "success",
            "description": "",
            "description_tooltip": null,
            "layout": "IPY_MODEL_a5abddf93168433592ba0e17c73635ae",
            "max": 115434268,
            "min": 0,
            "orientation": "horizontal",
            "style": "IPY_MODEL_e4ed0a8b3ee54ae7b177c8c72e2f3978",
            "value": 115434268
          }
        },
        "245db05e164b46868e9db1614e931bae": {
          "model_module": "@jupyter-widgets/controls",
          "model_name": "HTMLModel",
          "model_module_version": "1.5.0",
          "state": {
            "_dom_classes": [],
            "_model_module": "@jupyter-widgets/controls",
            "_model_module_version": "1.5.0",
            "_model_name": "HTMLModel",
            "_view_count": null,
            "_view_module": "@jupyter-widgets/controls",
            "_view_module_version": "1.5.0",
            "_view_name": "HTMLView",
            "description": "",
            "description_tooltip": null,
            "layout": "IPY_MODEL_3001c8f6ad7f4dd1a63c612b8d1d5f4f",
            "placeholder": "​",
            "style": "IPY_MODEL_e2944a718e4648818f5884faede6c1bb",
            "value": " 115M/115M [00:00&lt;00:00, 182MB/s]"
          }
        },
        "6daedf2e105a4c0db3f5ffe9a8712730": {
          "model_module": "@jupyter-widgets/base",
          "model_name": "LayoutModel",
          "model_module_version": "1.2.0",
          "state": {
            "_model_module": "@jupyter-widgets/base",
            "_model_module_version": "1.2.0",
            "_model_name": "LayoutModel",
            "_view_count": null,
            "_view_module": "@jupyter-widgets/base",
            "_view_module_version": "1.2.0",
            "_view_name": "LayoutView",
            "align_content": null,
            "align_items": null,
            "align_self": null,
            "border": null,
            "bottom": null,
            "display": null,
            "flex": null,
            "flex_flow": null,
            "grid_area": null,
            "grid_auto_columns": null,
            "grid_auto_flow": null,
            "grid_auto_rows": null,
            "grid_column": null,
            "grid_gap": null,
            "grid_row": null,
            "grid_template_areas": null,
            "grid_template_columns": null,
            "grid_template_rows": null,
            "height": null,
            "justify_content": null,
            "justify_items": null,
            "left": null,
            "margin": null,
            "max_height": null,
            "max_width": null,
            "min_height": null,
            "min_width": null,
            "object_fit": null,
            "object_position": null,
            "order": null,
            "overflow": null,
            "overflow_x": null,
            "overflow_y": null,
            "padding": null,
            "right": null,
            "top": null,
            "visibility": null,
            "width": null
          }
        },
        "f53d2bab3cf049c0bf23ef2aabfc93cb": {
          "model_module": "@jupyter-widgets/base",
          "model_name": "LayoutModel",
          "model_module_version": "1.2.0",
          "state": {
            "_model_module": "@jupyter-widgets/base",
            "_model_module_version": "1.2.0",
            "_model_name": "LayoutModel",
            "_view_count": null,
            "_view_module": "@jupyter-widgets/base",
            "_view_module_version": "1.2.0",
            "_view_name": "LayoutView",
            "align_content": null,
            "align_items": null,
            "align_self": null,
            "border": null,
            "bottom": null,
            "display": null,
            "flex": null,
            "flex_flow": null,
            "grid_area": null,
            "grid_auto_columns": null,
            "grid_auto_flow": null,
            "grid_auto_rows": null,
            "grid_column": null,
            "grid_gap": null,
            "grid_row": null,
            "grid_template_areas": null,
            "grid_template_columns": null,
            "grid_template_rows": null,
            "height": null,
            "justify_content": null,
            "justify_items": null,
            "left": null,
            "margin": null,
            "max_height": null,
            "max_width": null,
            "min_height": null,
            "min_width": null,
            "object_fit": null,
            "object_position": null,
            "order": null,
            "overflow": null,
            "overflow_x": null,
            "overflow_y": null,
            "padding": null,
            "right": null,
            "top": null,
            "visibility": null,
            "width": null
          }
        },
        "4e2d9a61897c48a8b4b5180706c9263c": {
          "model_module": "@jupyter-widgets/controls",
          "model_name": "DescriptionStyleModel",
          "model_module_version": "1.5.0",
          "state": {
            "_model_module": "@jupyter-widgets/controls",
            "_model_module_version": "1.5.0",
            "_model_name": "DescriptionStyleModel",
            "_view_count": null,
            "_view_module": "@jupyter-widgets/base",
            "_view_module_version": "1.2.0",
            "_view_name": "StyleView",
            "description_width": ""
          }
        },
        "a5abddf93168433592ba0e17c73635ae": {
          "model_module": "@jupyter-widgets/base",
          "model_name": "LayoutModel",
          "model_module_version": "1.2.0",
          "state": {
            "_model_module": "@jupyter-widgets/base",
            "_model_module_version": "1.2.0",
            "_model_name": "LayoutModel",
            "_view_count": null,
            "_view_module": "@jupyter-widgets/base",
            "_view_module_version": "1.2.0",
            "_view_name": "LayoutView",
            "align_content": null,
            "align_items": null,
            "align_self": null,
            "border": null,
            "bottom": null,
            "display": null,
            "flex": null,
            "flex_flow": null,
            "grid_area": null,
            "grid_auto_columns": null,
            "grid_auto_flow": null,
            "grid_auto_rows": null,
            "grid_column": null,
            "grid_gap": null,
            "grid_row": null,
            "grid_template_areas": null,
            "grid_template_columns": null,
            "grid_template_rows": null,
            "height": null,
            "justify_content": null,
            "justify_items": null,
            "left": null,
            "margin": null,
            "max_height": null,
            "max_width": null,
            "min_height": null,
            "min_width": null,
            "object_fit": null,
            "object_position": null,
            "order": null,
            "overflow": null,
            "overflow_x": null,
            "overflow_y": null,
            "padding": null,
            "right": null,
            "top": null,
            "visibility": null,
            "width": null
          }
        },
        "e4ed0a8b3ee54ae7b177c8c72e2f3978": {
          "model_module": "@jupyter-widgets/controls",
          "model_name": "ProgressStyleModel",
          "model_module_version": "1.5.0",
          "state": {
            "_model_module": "@jupyter-widgets/controls",
            "_model_module_version": "1.5.0",
            "_model_name": "ProgressStyleModel",
            "_view_count": null,
            "_view_module": "@jupyter-widgets/base",
            "_view_module_version": "1.2.0",
            "_view_name": "StyleView",
            "bar_color": null,
            "description_width": ""
          }
        },
        "3001c8f6ad7f4dd1a63c612b8d1d5f4f": {
          "model_module": "@jupyter-widgets/base",
          "model_name": "LayoutModel",
          "model_module_version": "1.2.0",
          "state": {
            "_model_module": "@jupyter-widgets/base",
            "_model_module_version": "1.2.0",
            "_model_name": "LayoutModel",
            "_view_count": null,
            "_view_module": "@jupyter-widgets/base",
            "_view_module_version": "1.2.0",
            "_view_name": "LayoutView",
            "align_content": null,
            "align_items": null,
            "align_self": null,
            "border": null,
            "bottom": null,
            "display": null,
            "flex": null,
            "flex_flow": null,
            "grid_area": null,
            "grid_auto_columns": null,
            "grid_auto_flow": null,
            "grid_auto_rows": null,
            "grid_column": null,
            "grid_gap": null,
            "grid_row": null,
            "grid_template_areas": null,
            "grid_template_columns": null,
            "grid_template_rows": null,
            "height": null,
            "justify_content": null,
            "justify_items": null,
            "left": null,
            "margin": null,
            "max_height": null,
            "max_width": null,
            "min_height": null,
            "min_width": null,
            "object_fit": null,
            "object_position": null,
            "order": null,
            "overflow": null,
            "overflow_x": null,
            "overflow_y": null,
            "padding": null,
            "right": null,
            "top": null,
            "visibility": null,
            "width": null
          }
        },
        "e2944a718e4648818f5884faede6c1bb": {
          "model_module": "@jupyter-widgets/controls",
          "model_name": "DescriptionStyleModel",
          "model_module_version": "1.5.0",
          "state": {
            "_model_module": "@jupyter-widgets/controls",
            "_model_module_version": "1.5.0",
            "_model_name": "DescriptionStyleModel",
            "_view_count": null,
            "_view_module": "@jupyter-widgets/base",
            "_view_module_version": "1.2.0",
            "_view_name": "StyleView",
            "description_width": ""
          }
        },
        "f4aaa127806d42218f2a783c52406671": {
          "model_module": "@jupyter-widgets/controls",
          "model_name": "HBoxModel",
          "model_module_version": "1.5.0",
          "state": {
            "_dom_classes": [],
            "_model_module": "@jupyter-widgets/controls",
            "_model_module_version": "1.5.0",
            "_model_name": "HBoxModel",
            "_view_count": null,
            "_view_module": "@jupyter-widgets/controls",
            "_view_module_version": "1.5.0",
            "_view_name": "HBoxView",
            "box_style": "",
            "children": [
              "IPY_MODEL_fb1df682bbe849bba07b517348eb413a",
              "IPY_MODEL_3409efe8a84740bdb0726373c9391c22",
              "IPY_MODEL_c109b24d5f0c4d9ab568941cfacaa637"
            ],
            "layout": "IPY_MODEL_9ccccd710f0c4746ac3a49bbeacd5eb2"
          }
        },
        "fb1df682bbe849bba07b517348eb413a": {
          "model_module": "@jupyter-widgets/controls",
          "model_name": "HTMLModel",
          "model_module_version": "1.5.0",
          "state": {
            "_dom_classes": [],
            "_model_module": "@jupyter-widgets/controls",
            "_model_module_version": "1.5.0",
            "_model_name": "HTMLModel",
            "_view_count": null,
            "_view_module": "@jupyter-widgets/controls",
            "_view_module_version": "1.5.0",
            "_view_name": "HTMLView",
            "description": "",
            "description_tooltip": null,
            "layout": "IPY_MODEL_16cd5f160ccc4477b8733e855a31292d",
            "placeholder": "​",
            "style": "IPY_MODEL_99b9508af12d43ecb1281d550dd3df0b",
            "value": "model.safetensors: 100%"
          }
        },
        "3409efe8a84740bdb0726373c9391c22": {
          "model_module": "@jupyter-widgets/controls",
          "model_name": "FloatProgressModel",
          "model_module_version": "1.5.0",
          "state": {
            "_dom_classes": [],
            "_model_module": "@jupyter-widgets/controls",
            "_model_module_version": "1.5.0",
            "_model_name": "FloatProgressModel",
            "_view_count": null,
            "_view_module": "@jupyter-widgets/controls",
            "_view_module_version": "1.5.0",
            "_view_name": "ProgressView",
            "bar_style": "success",
            "description": "",
            "description_tooltip": null,
            "layout": "IPY_MODEL_baab00f0033449e6a1d4ee30476a215d",
            "max": 46807446,
            "min": 0,
            "orientation": "horizontal",
            "style": "IPY_MODEL_ea818e7821aa41d58fb5c68e1534c8c7",
            "value": 46807446
          }
        },
        "c109b24d5f0c4d9ab568941cfacaa637": {
          "model_module": "@jupyter-widgets/controls",
          "model_name": "HTMLModel",
          "model_module_version": "1.5.0",
          "state": {
            "_dom_classes": [],
            "_model_module": "@jupyter-widgets/controls",
            "_model_module_version": "1.5.0",
            "_model_name": "HTMLModel",
            "_view_count": null,
            "_view_module": "@jupyter-widgets/controls",
            "_view_module_version": "1.5.0",
            "_view_name": "HTMLView",
            "description": "",
            "description_tooltip": null,
            "layout": "IPY_MODEL_328f587ff13d4b43ae24433f83fe35ae",
            "placeholder": "​",
            "style": "IPY_MODEL_b63d9feb9e32423ca03288f203af703e",
            "value": " 46.8M/46.8M [00:00&lt;00:00, 310MB/s]"
          }
        },
        "9ccccd710f0c4746ac3a49bbeacd5eb2": {
          "model_module": "@jupyter-widgets/base",
          "model_name": "LayoutModel",
          "model_module_version": "1.2.0",
          "state": {
            "_model_module": "@jupyter-widgets/base",
            "_model_module_version": "1.2.0",
            "_model_name": "LayoutModel",
            "_view_count": null,
            "_view_module": "@jupyter-widgets/base",
            "_view_module_version": "1.2.0",
            "_view_name": "LayoutView",
            "align_content": null,
            "align_items": null,
            "align_self": null,
            "border": null,
            "bottom": null,
            "display": null,
            "flex": null,
            "flex_flow": null,
            "grid_area": null,
            "grid_auto_columns": null,
            "grid_auto_flow": null,
            "grid_auto_rows": null,
            "grid_column": null,
            "grid_gap": null,
            "grid_row": null,
            "grid_template_areas": null,
            "grid_template_columns": null,
            "grid_template_rows": null,
            "height": null,
            "justify_content": null,
            "justify_items": null,
            "left": null,
            "margin": null,
            "max_height": null,
            "max_width": null,
            "min_height": null,
            "min_width": null,
            "object_fit": null,
            "object_position": null,
            "order": null,
            "overflow": null,
            "overflow_x": null,
            "overflow_y": null,
            "padding": null,
            "right": null,
            "top": null,
            "visibility": null,
            "width": null
          }
        },
        "16cd5f160ccc4477b8733e855a31292d": {
          "model_module": "@jupyter-widgets/base",
          "model_name": "LayoutModel",
          "model_module_version": "1.2.0",
          "state": {
            "_model_module": "@jupyter-widgets/base",
            "_model_module_version": "1.2.0",
            "_model_name": "LayoutModel",
            "_view_count": null,
            "_view_module": "@jupyter-widgets/base",
            "_view_module_version": "1.2.0",
            "_view_name": "LayoutView",
            "align_content": null,
            "align_items": null,
            "align_self": null,
            "border": null,
            "bottom": null,
            "display": null,
            "flex": null,
            "flex_flow": null,
            "grid_area": null,
            "grid_auto_columns": null,
            "grid_auto_flow": null,
            "grid_auto_rows": null,
            "grid_column": null,
            "grid_gap": null,
            "grid_row": null,
            "grid_template_areas": null,
            "grid_template_columns": null,
            "grid_template_rows": null,
            "height": null,
            "justify_content": null,
            "justify_items": null,
            "left": null,
            "margin": null,
            "max_height": null,
            "max_width": null,
            "min_height": null,
            "min_width": null,
            "object_fit": null,
            "object_position": null,
            "order": null,
            "overflow": null,
            "overflow_x": null,
            "overflow_y": null,
            "padding": null,
            "right": null,
            "top": null,
            "visibility": null,
            "width": null
          }
        },
        "99b9508af12d43ecb1281d550dd3df0b": {
          "model_module": "@jupyter-widgets/controls",
          "model_name": "DescriptionStyleModel",
          "model_module_version": "1.5.0",
          "state": {
            "_model_module": "@jupyter-widgets/controls",
            "_model_module_version": "1.5.0",
            "_model_name": "DescriptionStyleModel",
            "_view_count": null,
            "_view_module": "@jupyter-widgets/base",
            "_view_module_version": "1.2.0",
            "_view_name": "StyleView",
            "description_width": ""
          }
        },
        "baab00f0033449e6a1d4ee30476a215d": {
          "model_module": "@jupyter-widgets/base",
          "model_name": "LayoutModel",
          "model_module_version": "1.2.0",
          "state": {
            "_model_module": "@jupyter-widgets/base",
            "_model_module_version": "1.2.0",
            "_model_name": "LayoutModel",
            "_view_count": null,
            "_view_module": "@jupyter-widgets/base",
            "_view_module_version": "1.2.0",
            "_view_name": "LayoutView",
            "align_content": null,
            "align_items": null,
            "align_self": null,
            "border": null,
            "bottom": null,
            "display": null,
            "flex": null,
            "flex_flow": null,
            "grid_area": null,
            "grid_auto_columns": null,
            "grid_auto_flow": null,
            "grid_auto_rows": null,
            "grid_column": null,
            "grid_gap": null,
            "grid_row": null,
            "grid_template_areas": null,
            "grid_template_columns": null,
            "grid_template_rows": null,
            "height": null,
            "justify_content": null,
            "justify_items": null,
            "left": null,
            "margin": null,
            "max_height": null,
            "max_width": null,
            "min_height": null,
            "min_width": null,
            "object_fit": null,
            "object_position": null,
            "order": null,
            "overflow": null,
            "overflow_x": null,
            "overflow_y": null,
            "padding": null,
            "right": null,
            "top": null,
            "visibility": null,
            "width": null
          }
        },
        "ea818e7821aa41d58fb5c68e1534c8c7": {
          "model_module": "@jupyter-widgets/controls",
          "model_name": "ProgressStyleModel",
          "model_module_version": "1.5.0",
          "state": {
            "_model_module": "@jupyter-widgets/controls",
            "_model_module_version": "1.5.0",
            "_model_name": "ProgressStyleModel",
            "_view_count": null,
            "_view_module": "@jupyter-widgets/base",
            "_view_module_version": "1.2.0",
            "_view_name": "StyleView",
            "bar_color": null,
            "description_width": ""
          }
        },
        "328f587ff13d4b43ae24433f83fe35ae": {
          "model_module": "@jupyter-widgets/base",
          "model_name": "LayoutModel",
          "model_module_version": "1.2.0",
          "state": {
            "_model_module": "@jupyter-widgets/base",
            "_model_module_version": "1.2.0",
            "_model_name": "LayoutModel",
            "_view_count": null,
            "_view_module": "@jupyter-widgets/base",
            "_view_module_version": "1.2.0",
            "_view_name": "LayoutView",
            "align_content": null,
            "align_items": null,
            "align_self": null,
            "border": null,
            "bottom": null,
            "display": null,
            "flex": null,
            "flex_flow": null,
            "grid_area": null,
            "grid_auto_columns": null,
            "grid_auto_flow": null,
            "grid_auto_rows": null,
            "grid_column": null,
            "grid_gap": null,
            "grid_row": null,
            "grid_template_areas": null,
            "grid_template_columns": null,
            "grid_template_rows": null,
            "height": null,
            "justify_content": null,
            "justify_items": null,
            "left": null,
            "margin": null,
            "max_height": null,
            "max_width": null,
            "min_height": null,
            "min_width": null,
            "object_fit": null,
            "object_position": null,
            "order": null,
            "overflow": null,
            "overflow_x": null,
            "overflow_y": null,
            "padding": null,
            "right": null,
            "top": null,
            "visibility": null,
            "width": null
          }
        },
        "b63d9feb9e32423ca03288f203af703e": {
          "model_module": "@jupyter-widgets/controls",
          "model_name": "DescriptionStyleModel",
          "model_module_version": "1.5.0",
          "state": {
            "_model_module": "@jupyter-widgets/controls",
            "_model_module_version": "1.5.0",
            "_model_name": "DescriptionStyleModel",
            "_view_count": null,
            "_view_module": "@jupyter-widgets/base",
            "_view_module_version": "1.2.0",
            "_view_name": "StyleView",
            "description_width": ""
          }
        }
      }
    }
  },
  "cells": [
    {
      "cell_type": "code",
      "execution_count": 1,
      "metadata": {
        "colab": {
          "base_uri": "https://localhost:8080/"
        },
        "id": "w01HwfHgqW1y",
        "outputId": "d27505ff-04b7-46bd-d622-393b8c6afa21"
      },
      "outputs": [
        {
          "output_type": "stream",
          "name": "stdout",
          "text": [
            "Reading package lists... Done\n",
            "Building dependency tree... Done\n",
            "Reading state information... Done\n",
            "tesseract-ocr is already the newest version (4.1.1-2.1build1).\n",
            "0 upgraded, 0 newly installed, 0 to remove and 45 not upgraded.\n",
            "Reading package lists... Done\n",
            "Building dependency tree... Done\n",
            "Reading state information... Done\n",
            "libtesseract-dev is already the newest version (4.1.1-2.1build1).\n",
            "0 upgraded, 0 newly installed, 0 to remove and 45 not upgraded.\n",
            "Reading package lists... Done\n",
            "Building dependency tree... Done\n",
            "Reading state information... Done\n",
            "poppler-utils is already the newest version (22.02.0-2ubuntu0.5).\n",
            "0 upgraded, 0 newly installed, 0 to remove and 45 not upgraded.\n"
          ]
        }
      ],
      "source": [
        "!sudo apt install tesseract-ocr -y\n",
        "!sudo apt install libtesseract-dev -y\n",
        "!sudo apt-get install poppler-utils -y"
      ]
    },
    {
      "cell_type": "code",
      "source": [
        "!pip install langchain unstructured[all-docs] pydantic lxml opencv-python"
      ],
      "metadata": {
        "colab": {
          "base_uri": "https://localhost:8080/"
        },
        "id": "qkCaijcDqjnT",
        "outputId": "b4dbc378-70d0-4eab-a360-8cfd406d80e5"
      },
      "execution_count": 2,
      "outputs": [
        {
          "output_type": "stream",
          "name": "stdout",
          "text": [
            "Requirement already satisfied: langchain in /usr/local/lib/python3.10/dist-packages (0.2.14)\n",
            "Requirement already satisfied: pydantic in /usr/local/lib/python3.10/dist-packages (2.8.2)\n",
            "Requirement already satisfied: lxml in /usr/local/lib/python3.10/dist-packages (4.9.4)\n",
            "Requirement already satisfied: opencv-python in /usr/local/lib/python3.10/dist-packages (4.10.0.84)\n",
            "Requirement already satisfied: unstructured[all-docs] in /usr/local/lib/python3.10/dist-packages (0.15.7)\n",
            "Requirement already satisfied: PyYAML>=5.3 in /usr/local/lib/python3.10/dist-packages (from langchain) (6.0.2)\n",
            "Requirement already satisfied: SQLAlchemy<3,>=1.4 in /usr/local/lib/python3.10/dist-packages (from langchain) (2.0.32)\n",
            "Requirement already satisfied: aiohttp<4.0.0,>=3.8.3 in /usr/local/lib/python3.10/dist-packages (from langchain) (3.10.5)\n",
            "Requirement already satisfied: async-timeout<5.0.0,>=4.0.0 in /usr/local/lib/python3.10/dist-packages (from langchain) (4.0.3)\n",
            "Requirement already satisfied: langchain-core<0.3.0,>=0.2.32 in /usr/local/lib/python3.10/dist-packages (from langchain) (0.2.34)\n",
            "Requirement already satisfied: langchain-text-splitters<0.3.0,>=0.2.0 in /usr/local/lib/python3.10/dist-packages (from langchain) (0.2.2)\n",
            "Requirement already satisfied: langsmith<0.2.0,>=0.1.17 in /usr/local/lib/python3.10/dist-packages (from langchain) (0.1.104)\n",
            "Requirement already satisfied: numpy<2,>=1 in /usr/local/lib/python3.10/dist-packages (from langchain) (1.26.4)\n",
            "Requirement already satisfied: requests<3,>=2 in /usr/local/lib/python3.10/dist-packages (from langchain) (2.32.3)\n",
            "Requirement already satisfied: tenacity!=8.4.0,<9.0.0,>=8.1.0 in /usr/local/lib/python3.10/dist-packages (from langchain) (8.5.0)\n",
            "Requirement already satisfied: chardet in /usr/local/lib/python3.10/dist-packages (from unstructured[all-docs]) (5.2.0)\n",
            "Requirement already satisfied: filetype in /usr/local/lib/python3.10/dist-packages (from unstructured[all-docs]) (1.2.0)\n",
            "Requirement already satisfied: python-magic in /usr/local/lib/python3.10/dist-packages (from unstructured[all-docs]) (0.4.27)\n",
            "Requirement already satisfied: nltk in /usr/local/lib/python3.10/dist-packages (from unstructured[all-docs]) (3.8.1)\n",
            "Requirement already satisfied: tabulate in /usr/local/lib/python3.10/dist-packages (from unstructured[all-docs]) (0.9.0)\n",
            "Requirement already satisfied: beautifulsoup4 in /usr/local/lib/python3.10/dist-packages (from unstructured[all-docs]) (4.12.3)\n",
            "Requirement already satisfied: emoji in /usr/local/lib/python3.10/dist-packages (from unstructured[all-docs]) (2.12.1)\n",
            "Requirement already satisfied: dataclasses-json in /usr/local/lib/python3.10/dist-packages (from unstructured[all-docs]) (0.6.7)\n",
            "Requirement already satisfied: python-iso639 in /usr/local/lib/python3.10/dist-packages (from unstructured[all-docs]) (2024.4.27)\n",
            "Requirement already satisfied: langdetect in /usr/local/lib/python3.10/dist-packages (from unstructured[all-docs]) (1.0.9)\n",
            "Requirement already satisfied: rapidfuzz in /usr/local/lib/python3.10/dist-packages (from unstructured[all-docs]) (3.9.6)\n",
            "Requirement already satisfied: backoff in /usr/local/lib/python3.10/dist-packages (from unstructured[all-docs]) (2.2.1)\n",
            "Requirement already satisfied: typing-extensions in /usr/local/lib/python3.10/dist-packages (from unstructured[all-docs]) (4.12.2)\n",
            "Requirement already satisfied: unstructured-client in /usr/local/lib/python3.10/dist-packages (from unstructured[all-docs]) (0.25.5)\n",
            "Requirement already satisfied: wrapt in /usr/local/lib/python3.10/dist-packages (from unstructured[all-docs]) (1.16.0)\n",
            "Requirement already satisfied: tqdm in /usr/local/lib/python3.10/dist-packages (from unstructured[all-docs]) (4.66.5)\n",
            "Requirement already satisfied: psutil in /usr/local/lib/python3.10/dist-packages (from unstructured[all-docs]) (5.9.5)\n",
            "Requirement already satisfied: pdfminer.six in /usr/local/lib/python3.10/dist-packages (from unstructured[all-docs]) (20231228)\n",
            "Requirement already satisfied: pikepdf in /usr/local/lib/python3.10/dist-packages (from unstructured[all-docs]) (9.2.0)\n",
            "Requirement already satisfied: python-pptx>=1.0.1 in /usr/local/lib/python3.10/dist-packages (from unstructured[all-docs]) (1.0.2)\n",
            "Requirement already satisfied: onnx in /usr/local/lib/python3.10/dist-packages (from unstructured[all-docs]) (1.16.2)\n",
            "Requirement already satisfied: networkx in /usr/local/lib/python3.10/dist-packages (from unstructured[all-docs]) (3.3)\n",
            "Requirement already satisfied: unstructured.pytesseract>=0.3.12 in /usr/local/lib/python3.10/dist-packages (from unstructured[all-docs]) (0.3.13)\n",
            "Requirement already satisfied: markdown in /usr/local/lib/python3.10/dist-packages (from unstructured[all-docs]) (3.7)\n",
            "Requirement already satisfied: xlrd in /usr/local/lib/python3.10/dist-packages (from unstructured[all-docs]) (2.0.1)\n",
            "Requirement already satisfied: python-docx>=1.1.2 in /usr/local/lib/python3.10/dist-packages (from unstructured[all-docs]) (1.1.2)\n",
            "Requirement already satisfied: pdf2image in /usr/local/lib/python3.10/dist-packages (from unstructured[all-docs]) (1.17.0)\n",
            "Requirement already satisfied: pypdf in /usr/local/lib/python3.10/dist-packages (from unstructured[all-docs]) (4.3.1)\n",
            "Requirement already satisfied: google-cloud-vision in /usr/local/lib/python3.10/dist-packages (from unstructured[all-docs]) (3.7.4)\n",
            "Requirement already satisfied: effdet in /usr/local/lib/python3.10/dist-packages (from unstructured[all-docs]) (0.4.1)\n",
            "Requirement already satisfied: openpyxl in /usr/local/lib/python3.10/dist-packages (from unstructured[all-docs]) (3.1.5)\n",
            "Requirement already satisfied: pillow-heif in /usr/local/lib/python3.10/dist-packages (from unstructured[all-docs]) (0.18.0)\n",
            "Requirement already satisfied: pandas in /usr/local/lib/python3.10/dist-packages (from unstructured[all-docs]) (2.1.4)\n",
            "Requirement already satisfied: pypandoc in /usr/local/lib/python3.10/dist-packages (from unstructured[all-docs]) (1.13)\n",
            "Requirement already satisfied: python-oxmsg in /usr/local/lib/python3.10/dist-packages (from unstructured[all-docs]) (0.0.1)\n",
            "Requirement already satisfied: unstructured-inference==0.7.36 in /usr/local/lib/python3.10/dist-packages (from unstructured[all-docs]) (0.7.36)\n",
            "Requirement already satisfied: layoutparser in /usr/local/lib/python3.10/dist-packages (from unstructured-inference==0.7.36->unstructured[all-docs]) (0.3.4)\n",
            "Requirement already satisfied: python-multipart in /usr/local/lib/python3.10/dist-packages (from unstructured-inference==0.7.36->unstructured[all-docs]) (0.0.9)\n",
            "Requirement already satisfied: huggingface-hub in /usr/local/lib/python3.10/dist-packages (from unstructured-inference==0.7.36->unstructured[all-docs]) (0.23.5)\n",
            "Requirement already satisfied: onnxruntime>=1.17.0 in /usr/local/lib/python3.10/dist-packages (from unstructured-inference==0.7.36->unstructured[all-docs]) (1.19.0)\n",
            "Requirement already satisfied: matplotlib in /usr/local/lib/python3.10/dist-packages (from unstructured-inference==0.7.36->unstructured[all-docs]) (3.7.1)\n",
            "Requirement already satisfied: torch in /usr/local/lib/python3.10/dist-packages (from unstructured-inference==0.7.36->unstructured[all-docs]) (2.3.1+cu121)\n",
            "Requirement already satisfied: timm in /usr/local/lib/python3.10/dist-packages (from unstructured-inference==0.7.36->unstructured[all-docs]) (1.0.9)\n",
            "Requirement already satisfied: transformers>=4.25.1 in /usr/local/lib/python3.10/dist-packages (from unstructured-inference==0.7.36->unstructured[all-docs]) (4.42.4)\n",
            "Requirement already satisfied: annotated-types>=0.4.0 in /usr/local/lib/python3.10/dist-packages (from pydantic) (0.7.0)\n",
            "Requirement already satisfied: pydantic-core==2.20.1 in /usr/local/lib/python3.10/dist-packages (from pydantic) (2.20.1)\n",
            "Requirement already satisfied: aiohappyeyeballs>=2.3.0 in /usr/local/lib/python3.10/dist-packages (from aiohttp<4.0.0,>=3.8.3->langchain) (2.4.0)\n",
            "Requirement already satisfied: aiosignal>=1.1.2 in /usr/local/lib/python3.10/dist-packages (from aiohttp<4.0.0,>=3.8.3->langchain) (1.3.1)\n",
            "Requirement already satisfied: attrs>=17.3.0 in /usr/local/lib/python3.10/dist-packages (from aiohttp<4.0.0,>=3.8.3->langchain) (24.2.0)\n",
            "Requirement already satisfied: frozenlist>=1.1.1 in /usr/local/lib/python3.10/dist-packages (from aiohttp<4.0.0,>=3.8.3->langchain) (1.4.1)\n",
            "Requirement already satisfied: multidict<7.0,>=4.5 in /usr/local/lib/python3.10/dist-packages (from aiohttp<4.0.0,>=3.8.3->langchain) (6.0.5)\n",
            "Requirement already satisfied: yarl<2.0,>=1.0 in /usr/local/lib/python3.10/dist-packages (from aiohttp<4.0.0,>=3.8.3->langchain) (1.9.4)\n",
            "Requirement already satisfied: jsonpatch<2.0,>=1.33 in /usr/local/lib/python3.10/dist-packages (from langchain-core<0.3.0,>=0.2.32->langchain) (1.33)\n",
            "Requirement already satisfied: packaging<25,>=23.2 in /usr/local/lib/python3.10/dist-packages (from langchain-core<0.3.0,>=0.2.32->langchain) (24.1)\n",
            "Requirement already satisfied: httpx<1,>=0.23.0 in /usr/local/lib/python3.10/dist-packages (from langsmith<0.2.0,>=0.1.17->langchain) (0.27.0)\n",
            "Requirement already satisfied: orjson<4.0.0,>=3.9.14 in /usr/local/lib/python3.10/dist-packages (from langsmith<0.2.0,>=0.1.17->langchain) (3.10.7)\n",
            "Requirement already satisfied: Pillow>=3.3.2 in /usr/local/lib/python3.10/dist-packages (from python-pptx>=1.0.1->unstructured[all-docs]) (10.4.0)\n",
            "Requirement already satisfied: XlsxWriter>=0.5.7 in /usr/local/lib/python3.10/dist-packages (from python-pptx>=1.0.1->unstructured[all-docs]) (3.2.0)\n",
            "Requirement already satisfied: charset-normalizer<4,>=2 in /usr/local/lib/python3.10/dist-packages (from requests<3,>=2->langchain) (3.3.2)\n",
            "Requirement already satisfied: idna<4,>=2.5 in /usr/local/lib/python3.10/dist-packages (from requests<3,>=2->langchain) (3.7)\n",
            "Requirement already satisfied: urllib3<3,>=1.21.1 in /usr/local/lib/python3.10/dist-packages (from requests<3,>=2->langchain) (2.0.7)\n",
            "Requirement already satisfied: certifi>=2017.4.17 in /usr/local/lib/python3.10/dist-packages (from requests<3,>=2->langchain) (2024.7.4)\n",
            "Requirement already satisfied: greenlet!=0.4.17 in /usr/local/lib/python3.10/dist-packages (from SQLAlchemy<3,>=1.4->langchain) (3.0.3)\n",
            "Requirement already satisfied: soupsieve>1.2 in /usr/local/lib/python3.10/dist-packages (from beautifulsoup4->unstructured[all-docs]) (2.6)\n",
            "Requirement already satisfied: marshmallow<4.0.0,>=3.18.0 in /usr/local/lib/python3.10/dist-packages (from dataclasses-json->unstructured[all-docs]) (3.22.0)\n",
            "Requirement already satisfied: typing-inspect<1,>=0.4.0 in /usr/local/lib/python3.10/dist-packages (from dataclasses-json->unstructured[all-docs]) (0.9.0)\n",
            "Requirement already satisfied: torchvision in /usr/local/lib/python3.10/dist-packages (from effdet->unstructured[all-docs]) (0.18.1+cu121)\n",
            "Requirement already satisfied: pycocotools>=2.0.2 in /usr/local/lib/python3.10/dist-packages (from effdet->unstructured[all-docs]) (2.0.8)\n",
            "Requirement already satisfied: omegaconf>=2.0 in /usr/local/lib/python3.10/dist-packages (from effdet->unstructured[all-docs]) (2.3.0)\n",
            "Requirement already satisfied: google-api-core!=2.0.*,!=2.1.*,!=2.10.*,!=2.2.*,!=2.3.*,!=2.4.*,!=2.5.*,!=2.6.*,!=2.7.*,!=2.8.*,!=2.9.*,<3.0.0dev,>=1.34.1 in /usr/local/lib/python3.10/dist-packages (from google-api-core[grpc]!=2.0.*,!=2.1.*,!=2.10.*,!=2.2.*,!=2.3.*,!=2.4.*,!=2.5.*,!=2.6.*,!=2.7.*,!=2.8.*,!=2.9.*,<3.0.0dev,>=1.34.1->google-cloud-vision->unstructured[all-docs]) (2.19.1)\n",
            "Requirement already satisfied: google-auth!=2.24.0,!=2.25.0,<3.0.0dev,>=2.14.1 in /usr/local/lib/python3.10/dist-packages (from google-cloud-vision->unstructured[all-docs]) (2.27.0)\n",
            "Requirement already satisfied: proto-plus<2.0.0dev,>=1.22.3 in /usr/local/lib/python3.10/dist-packages (from google-cloud-vision->unstructured[all-docs]) (1.24.0)\n",
            "Requirement already satisfied: protobuf!=4.21.0,!=4.21.1,!=4.21.2,!=4.21.3,!=4.21.4,!=4.21.5,<6.0.0dev,>=3.20.2 in /usr/local/lib/python3.10/dist-packages (from google-cloud-vision->unstructured[all-docs]) (3.20.3)\n",
            "Requirement already satisfied: six in /usr/local/lib/python3.10/dist-packages (from langdetect->unstructured[all-docs]) (1.16.0)\n",
            "Requirement already satisfied: click in /usr/local/lib/python3.10/dist-packages (from nltk->unstructured[all-docs]) (8.1.7)\n",
            "Requirement already satisfied: joblib in /usr/local/lib/python3.10/dist-packages (from nltk->unstructured[all-docs]) (1.4.2)\n",
            "Requirement already satisfied: regex>=2021.8.3 in /usr/local/lib/python3.10/dist-packages (from nltk->unstructured[all-docs]) (2024.5.15)\n",
            "Requirement already satisfied: et-xmlfile in /usr/local/lib/python3.10/dist-packages (from openpyxl->unstructured[all-docs]) (1.1.0)\n",
            "Requirement already satisfied: python-dateutil>=2.8.2 in /usr/local/lib/python3.10/dist-packages (from pandas->unstructured[all-docs]) (2.8.2)\n",
            "Requirement already satisfied: pytz>=2020.1 in /usr/local/lib/python3.10/dist-packages (from pandas->unstructured[all-docs]) (2024.1)\n",
            "Requirement already satisfied: tzdata>=2022.1 in /usr/local/lib/python3.10/dist-packages (from pandas->unstructured[all-docs]) (2024.1)\n",
            "Requirement already satisfied: cryptography>=36.0.0 in /usr/local/lib/python3.10/dist-packages (from pdfminer.six->unstructured[all-docs]) (43.0.0)\n",
            "Requirement already satisfied: Deprecated in /usr/local/lib/python3.10/dist-packages (from pikepdf->unstructured[all-docs]) (1.2.14)\n",
            "Requirement already satisfied: olefile in /usr/local/lib/python3.10/dist-packages (from python-oxmsg->unstructured[all-docs]) (0.47)\n",
            "Requirement already satisfied: deepdiff>=6.0 in /usr/local/lib/python3.10/dist-packages (from unstructured-client->unstructured[all-docs]) (7.0.1)\n",
            "Requirement already satisfied: jsonpath-python>=1.0.6 in /usr/local/lib/python3.10/dist-packages (from unstructured-client->unstructured[all-docs]) (1.0.6)\n",
            "Requirement already satisfied: mypy-extensions>=1.0.0 in /usr/local/lib/python3.10/dist-packages (from unstructured-client->unstructured[all-docs]) (1.0.0)\n",
            "Requirement already satisfied: nest-asyncio>=1.6.0 in /usr/local/lib/python3.10/dist-packages (from unstructured-client->unstructured[all-docs]) (1.6.0)\n",
            "Requirement already satisfied: requests-toolbelt>=1.0.0 in /usr/local/lib/python3.10/dist-packages (from unstructured-client->unstructured[all-docs]) (1.0.0)\n",
            "Requirement already satisfied: cffi>=1.12 in /usr/local/lib/python3.10/dist-packages (from cryptography>=36.0.0->pdfminer.six->unstructured[all-docs]) (1.17.0)\n",
            "Requirement already satisfied: ordered-set<4.2.0,>=4.1.0 in /usr/local/lib/python3.10/dist-packages (from deepdiff>=6.0->unstructured-client->unstructured[all-docs]) (4.1.0)\n",
            "Requirement already satisfied: googleapis-common-protos<2.0.dev0,>=1.56.2 in /usr/local/lib/python3.10/dist-packages (from google-api-core!=2.0.*,!=2.1.*,!=2.10.*,!=2.2.*,!=2.3.*,!=2.4.*,!=2.5.*,!=2.6.*,!=2.7.*,!=2.8.*,!=2.9.*,<3.0.0dev,>=1.34.1->google-api-core[grpc]!=2.0.*,!=2.1.*,!=2.10.*,!=2.2.*,!=2.3.*,!=2.4.*,!=2.5.*,!=2.6.*,!=2.7.*,!=2.8.*,!=2.9.*,<3.0.0dev,>=1.34.1->google-cloud-vision->unstructured[all-docs]) (1.63.2)\n",
            "Requirement already satisfied: grpcio<2.0dev,>=1.33.2 in /usr/local/lib/python3.10/dist-packages (from google-api-core[grpc]!=2.0.*,!=2.1.*,!=2.10.*,!=2.2.*,!=2.3.*,!=2.4.*,!=2.5.*,!=2.6.*,!=2.7.*,!=2.8.*,!=2.9.*,<3.0.0dev,>=1.34.1->google-cloud-vision->unstructured[all-docs]) (1.64.1)\n",
            "Requirement already satisfied: grpcio-status<2.0.dev0,>=1.33.2 in /usr/local/lib/python3.10/dist-packages (from google-api-core[grpc]!=2.0.*,!=2.1.*,!=2.10.*,!=2.2.*,!=2.3.*,!=2.4.*,!=2.5.*,!=2.6.*,!=2.7.*,!=2.8.*,!=2.9.*,<3.0.0dev,>=1.34.1->google-cloud-vision->unstructured[all-docs]) (1.48.2)\n",
            "Requirement already satisfied: cachetools<6.0,>=2.0.0 in /usr/local/lib/python3.10/dist-packages (from google-auth!=2.24.0,!=2.25.0,<3.0.0dev,>=2.14.1->google-cloud-vision->unstructured[all-docs]) (5.5.0)\n",
            "Requirement already satisfied: pyasn1-modules>=0.2.1 in /usr/local/lib/python3.10/dist-packages (from google-auth!=2.24.0,!=2.25.0,<3.0.0dev,>=2.14.1->google-cloud-vision->unstructured[all-docs]) (0.4.0)\n",
            "Requirement already satisfied: rsa<5,>=3.1.4 in /usr/local/lib/python3.10/dist-packages (from google-auth!=2.24.0,!=2.25.0,<3.0.0dev,>=2.14.1->google-cloud-vision->unstructured[all-docs]) (4.9)\n",
            "Requirement already satisfied: anyio in /usr/local/lib/python3.10/dist-packages (from httpx<1,>=0.23.0->langsmith<0.2.0,>=0.1.17->langchain) (3.7.1)\n",
            "Requirement already satisfied: httpcore==1.* in /usr/local/lib/python3.10/dist-packages (from httpx<1,>=0.23.0->langsmith<0.2.0,>=0.1.17->langchain) (1.0.5)\n",
            "Requirement already satisfied: sniffio in /usr/local/lib/python3.10/dist-packages (from httpx<1,>=0.23.0->langsmith<0.2.0,>=0.1.17->langchain) (1.3.1)\n",
            "Requirement already satisfied: h11<0.15,>=0.13 in /usr/local/lib/python3.10/dist-packages (from httpcore==1.*->httpx<1,>=0.23.0->langsmith<0.2.0,>=0.1.17->langchain) (0.14.0)\n",
            "Requirement already satisfied: jsonpointer>=1.9 in /usr/local/lib/python3.10/dist-packages (from jsonpatch<2.0,>=1.33->langchain-core<0.3.0,>=0.2.32->langchain) (3.0.0)\n",
            "Requirement already satisfied: antlr4-python3-runtime==4.9.* in /usr/local/lib/python3.10/dist-packages (from omegaconf>=2.0->effdet->unstructured[all-docs]) (4.9.3)\n",
            "Requirement already satisfied: coloredlogs in /usr/local/lib/python3.10/dist-packages (from onnxruntime>=1.17.0->unstructured-inference==0.7.36->unstructured[all-docs]) (15.0.1)\n",
            "Requirement already satisfied: flatbuffers in /usr/local/lib/python3.10/dist-packages (from onnxruntime>=1.17.0->unstructured-inference==0.7.36->unstructured[all-docs]) (24.3.25)\n",
            "Requirement already satisfied: sympy in /usr/local/lib/python3.10/dist-packages (from onnxruntime>=1.17.0->unstructured-inference==0.7.36->unstructured[all-docs]) (1.13.2)\n",
            "Requirement already satisfied: contourpy>=1.0.1 in /usr/local/lib/python3.10/dist-packages (from matplotlib->unstructured-inference==0.7.36->unstructured[all-docs]) (1.2.1)\n",
            "Requirement already satisfied: cycler>=0.10 in /usr/local/lib/python3.10/dist-packages (from matplotlib->unstructured-inference==0.7.36->unstructured[all-docs]) (0.12.1)\n",
            "Requirement already satisfied: fonttools>=4.22.0 in /usr/local/lib/python3.10/dist-packages (from matplotlib->unstructured-inference==0.7.36->unstructured[all-docs]) (4.53.1)\n",
            "Requirement already satisfied: kiwisolver>=1.0.1 in /usr/local/lib/python3.10/dist-packages (from matplotlib->unstructured-inference==0.7.36->unstructured[all-docs]) (1.4.5)\n",
            "Requirement already satisfied: pyparsing>=2.3.1 in /usr/local/lib/python3.10/dist-packages (from matplotlib->unstructured-inference==0.7.36->unstructured[all-docs]) (3.1.2)\n",
            "Requirement already satisfied: safetensors in /usr/local/lib/python3.10/dist-packages (from timm->unstructured-inference==0.7.36->unstructured[all-docs]) (0.4.4)\n",
            "Requirement already satisfied: filelock in /usr/local/lib/python3.10/dist-packages (from torch->unstructured-inference==0.7.36->unstructured[all-docs]) (3.15.4)\n",
            "Requirement already satisfied: jinja2 in /usr/local/lib/python3.10/dist-packages (from torch->unstructured-inference==0.7.36->unstructured[all-docs]) (3.1.4)\n",
            "Requirement already satisfied: fsspec in /usr/local/lib/python3.10/dist-packages (from torch->unstructured-inference==0.7.36->unstructured[all-docs]) (2024.6.1)\n",
            "Requirement already satisfied: nvidia-cuda-nvrtc-cu12==12.1.105 in /usr/local/lib/python3.10/dist-packages (from torch->unstructured-inference==0.7.36->unstructured[all-docs]) (12.1.105)\n",
            "Requirement already satisfied: nvidia-cuda-runtime-cu12==12.1.105 in /usr/local/lib/python3.10/dist-packages (from torch->unstructured-inference==0.7.36->unstructured[all-docs]) (12.1.105)\n",
            "Requirement already satisfied: nvidia-cuda-cupti-cu12==12.1.105 in /usr/local/lib/python3.10/dist-packages (from torch->unstructured-inference==0.7.36->unstructured[all-docs]) (12.1.105)\n",
            "Requirement already satisfied: nvidia-cudnn-cu12==8.9.2.26 in /usr/local/lib/python3.10/dist-packages (from torch->unstructured-inference==0.7.36->unstructured[all-docs]) (8.9.2.26)\n",
            "Requirement already satisfied: nvidia-cublas-cu12==12.1.3.1 in /usr/local/lib/python3.10/dist-packages (from torch->unstructured-inference==0.7.36->unstructured[all-docs]) (12.1.3.1)\n",
            "Requirement already satisfied: nvidia-cufft-cu12==11.0.2.54 in /usr/local/lib/python3.10/dist-packages (from torch->unstructured-inference==0.7.36->unstructured[all-docs]) (11.0.2.54)\n",
            "Requirement already satisfied: nvidia-curand-cu12==10.3.2.106 in /usr/local/lib/python3.10/dist-packages (from torch->unstructured-inference==0.7.36->unstructured[all-docs]) (10.3.2.106)\n",
            "Requirement already satisfied: nvidia-cusolver-cu12==11.4.5.107 in /usr/local/lib/python3.10/dist-packages (from torch->unstructured-inference==0.7.36->unstructured[all-docs]) (11.4.5.107)\n",
            "Requirement already satisfied: nvidia-cusparse-cu12==12.1.0.106 in /usr/local/lib/python3.10/dist-packages (from torch->unstructured-inference==0.7.36->unstructured[all-docs]) (12.1.0.106)\n",
            "Requirement already satisfied: nvidia-nccl-cu12==2.20.5 in /usr/local/lib/python3.10/dist-packages (from torch->unstructured-inference==0.7.36->unstructured[all-docs]) (2.20.5)\n",
            "Requirement already satisfied: nvidia-nvtx-cu12==12.1.105 in /usr/local/lib/python3.10/dist-packages (from torch->unstructured-inference==0.7.36->unstructured[all-docs]) (12.1.105)\n",
            "Requirement already satisfied: triton==2.3.1 in /usr/local/lib/python3.10/dist-packages (from torch->unstructured-inference==0.7.36->unstructured[all-docs]) (2.3.1)\n",
            "Requirement already satisfied: nvidia-nvjitlink-cu12 in /usr/local/lib/python3.10/dist-packages (from nvidia-cusolver-cu12==11.4.5.107->torch->unstructured-inference==0.7.36->unstructured[all-docs]) (12.6.20)\n",
            "Requirement already satisfied: tokenizers<0.20,>=0.19 in /usr/local/lib/python3.10/dist-packages (from transformers>=4.25.1->unstructured-inference==0.7.36->unstructured[all-docs]) (0.19.1)\n",
            "Requirement already satisfied: scipy in /usr/local/lib/python3.10/dist-packages (from layoutparser->unstructured-inference==0.7.36->unstructured[all-docs]) (1.13.1)\n",
            "Requirement already satisfied: iopath in /usr/local/lib/python3.10/dist-packages (from layoutparser->unstructured-inference==0.7.36->unstructured[all-docs]) (0.1.10)\n",
            "Requirement already satisfied: pdfplumber in /usr/local/lib/python3.10/dist-packages (from layoutparser->unstructured-inference==0.7.36->unstructured[all-docs]) (0.11.4)\n",
            "Requirement already satisfied: pycparser in /usr/local/lib/python3.10/dist-packages (from cffi>=1.12->cryptography>=36.0.0->pdfminer.six->unstructured[all-docs]) (2.22)\n",
            "Requirement already satisfied: pyasn1<0.7.0,>=0.4.6 in /usr/local/lib/python3.10/dist-packages (from pyasn1-modules>=0.2.1->google-auth!=2.24.0,!=2.25.0,<3.0.0dev,>=2.14.1->google-cloud-vision->unstructured[all-docs]) (0.6.0)\n",
            "Requirement already satisfied: exceptiongroup in /usr/local/lib/python3.10/dist-packages (from anyio->httpx<1,>=0.23.0->langsmith<0.2.0,>=0.1.17->langchain) (1.2.2)\n",
            "Requirement already satisfied: humanfriendly>=9.1 in /usr/local/lib/python3.10/dist-packages (from coloredlogs->onnxruntime>=1.17.0->unstructured-inference==0.7.36->unstructured[all-docs]) (10.0)\n",
            "Requirement already satisfied: portalocker in /usr/local/lib/python3.10/dist-packages (from iopath->layoutparser->unstructured-inference==0.7.36->unstructured[all-docs]) (2.10.1)\n",
            "Requirement already satisfied: MarkupSafe>=2.0 in /usr/local/lib/python3.10/dist-packages (from jinja2->torch->unstructured-inference==0.7.36->unstructured[all-docs]) (2.1.5)\n",
            "Requirement already satisfied: pypdfium2>=4.18.0 in /usr/local/lib/python3.10/dist-packages (from pdfplumber->layoutparser->unstructured-inference==0.7.36->unstructured[all-docs]) (4.30.0)\n",
            "Requirement already satisfied: mpmath<1.4,>=1.1.0 in /usr/local/lib/python3.10/dist-packages (from sympy->onnxruntime>=1.17.0->unstructured-inference==0.7.36->unstructured[all-docs]) (1.3.0)\n"
          ]
        }
      ]
    },
    {
      "cell_type": "code",
      "source": [
        "!pip install langchain_core\n",
        "!pip install langchain-google-genai\n",
        "!pip install langchain\n",
        "!pip install langchain_community"
      ],
      "metadata": {
        "colab": {
          "base_uri": "https://localhost:8080/"
        },
        "id": "3VI5ifjtyVBr",
        "outputId": "80c97ab1-db14-48f7-f7a0-5a77ebb1bb40"
      },
      "execution_count": 3,
      "outputs": [
        {
          "output_type": "stream",
          "name": "stdout",
          "text": [
            "Requirement already satisfied: langchain_core in /usr/local/lib/python3.10/dist-packages (0.2.34)\n",
            "Requirement already satisfied: PyYAML>=5.3 in /usr/local/lib/python3.10/dist-packages (from langchain_core) (6.0.2)\n",
            "Requirement already satisfied: jsonpatch<2.0,>=1.33 in /usr/local/lib/python3.10/dist-packages (from langchain_core) (1.33)\n",
            "Requirement already satisfied: langsmith<0.2.0,>=0.1.75 in /usr/local/lib/python3.10/dist-packages (from langchain_core) (0.1.104)\n",
            "Requirement already satisfied: packaging<25,>=23.2 in /usr/local/lib/python3.10/dist-packages (from langchain_core) (24.1)\n",
            "Requirement already satisfied: pydantic<3,>=1 in /usr/local/lib/python3.10/dist-packages (from langchain_core) (2.8.2)\n",
            "Requirement already satisfied: tenacity!=8.4.0,<9.0.0,>=8.1.0 in /usr/local/lib/python3.10/dist-packages (from langchain_core) (8.5.0)\n",
            "Requirement already satisfied: typing-extensions>=4.7 in /usr/local/lib/python3.10/dist-packages (from langchain_core) (4.12.2)\n",
            "Requirement already satisfied: jsonpointer>=1.9 in /usr/local/lib/python3.10/dist-packages (from jsonpatch<2.0,>=1.33->langchain_core) (3.0.0)\n",
            "Requirement already satisfied: httpx<1,>=0.23.0 in /usr/local/lib/python3.10/dist-packages (from langsmith<0.2.0,>=0.1.75->langchain_core) (0.27.0)\n",
            "Requirement already satisfied: orjson<4.0.0,>=3.9.14 in /usr/local/lib/python3.10/dist-packages (from langsmith<0.2.0,>=0.1.75->langchain_core) (3.10.7)\n",
            "Requirement already satisfied: requests<3,>=2 in /usr/local/lib/python3.10/dist-packages (from langsmith<0.2.0,>=0.1.75->langchain_core) (2.32.3)\n",
            "Requirement already satisfied: annotated-types>=0.4.0 in /usr/local/lib/python3.10/dist-packages (from pydantic<3,>=1->langchain_core) (0.7.0)\n",
            "Requirement already satisfied: pydantic-core==2.20.1 in /usr/local/lib/python3.10/dist-packages (from pydantic<3,>=1->langchain_core) (2.20.1)\n",
            "Requirement already satisfied: anyio in /usr/local/lib/python3.10/dist-packages (from httpx<1,>=0.23.0->langsmith<0.2.0,>=0.1.75->langchain_core) (3.7.1)\n",
            "Requirement already satisfied: certifi in /usr/local/lib/python3.10/dist-packages (from httpx<1,>=0.23.0->langsmith<0.2.0,>=0.1.75->langchain_core) (2024.7.4)\n",
            "Requirement already satisfied: httpcore==1.* in /usr/local/lib/python3.10/dist-packages (from httpx<1,>=0.23.0->langsmith<0.2.0,>=0.1.75->langchain_core) (1.0.5)\n",
            "Requirement already satisfied: idna in /usr/local/lib/python3.10/dist-packages (from httpx<1,>=0.23.0->langsmith<0.2.0,>=0.1.75->langchain_core) (3.7)\n",
            "Requirement already satisfied: sniffio in /usr/local/lib/python3.10/dist-packages (from httpx<1,>=0.23.0->langsmith<0.2.0,>=0.1.75->langchain_core) (1.3.1)\n",
            "Requirement already satisfied: h11<0.15,>=0.13 in /usr/local/lib/python3.10/dist-packages (from httpcore==1.*->httpx<1,>=0.23.0->langsmith<0.2.0,>=0.1.75->langchain_core) (0.14.0)\n",
            "Requirement already satisfied: charset-normalizer<4,>=2 in /usr/local/lib/python3.10/dist-packages (from requests<3,>=2->langsmith<0.2.0,>=0.1.75->langchain_core) (3.3.2)\n",
            "Requirement already satisfied: urllib3<3,>=1.21.1 in /usr/local/lib/python3.10/dist-packages (from requests<3,>=2->langsmith<0.2.0,>=0.1.75->langchain_core) (2.0.7)\n",
            "Requirement already satisfied: exceptiongroup in /usr/local/lib/python3.10/dist-packages (from anyio->httpx<1,>=0.23.0->langsmith<0.2.0,>=0.1.75->langchain_core) (1.2.2)\n",
            "Requirement already satisfied: langchain-google-genai in /usr/local/lib/python3.10/dist-packages (1.0.10)\n",
            "Requirement already satisfied: google-generativeai<0.8.0,>=0.7.0 in /usr/local/lib/python3.10/dist-packages (from langchain-google-genai) (0.7.2)\n",
            "Requirement already satisfied: langchain-core<0.3,>=0.2.33 in /usr/local/lib/python3.10/dist-packages (from langchain-google-genai) (0.2.34)\n",
            "Requirement already satisfied: google-ai-generativelanguage==0.6.6 in /usr/local/lib/python3.10/dist-packages (from google-generativeai<0.8.0,>=0.7.0->langchain-google-genai) (0.6.6)\n",
            "Requirement already satisfied: google-api-core in /usr/local/lib/python3.10/dist-packages (from google-generativeai<0.8.0,>=0.7.0->langchain-google-genai) (2.19.1)\n",
            "Requirement already satisfied: google-api-python-client in /usr/local/lib/python3.10/dist-packages (from google-generativeai<0.8.0,>=0.7.0->langchain-google-genai) (2.137.0)\n",
            "Requirement already satisfied: google-auth>=2.15.0 in /usr/local/lib/python3.10/dist-packages (from google-generativeai<0.8.0,>=0.7.0->langchain-google-genai) (2.27.0)\n",
            "Requirement already satisfied: protobuf in /usr/local/lib/python3.10/dist-packages (from google-generativeai<0.8.0,>=0.7.0->langchain-google-genai) (3.20.3)\n",
            "Requirement already satisfied: pydantic in /usr/local/lib/python3.10/dist-packages (from google-generativeai<0.8.0,>=0.7.0->langchain-google-genai) (2.8.2)\n",
            "Requirement already satisfied: tqdm in /usr/local/lib/python3.10/dist-packages (from google-generativeai<0.8.0,>=0.7.0->langchain-google-genai) (4.66.5)\n",
            "Requirement already satisfied: typing-extensions in /usr/local/lib/python3.10/dist-packages (from google-generativeai<0.8.0,>=0.7.0->langchain-google-genai) (4.12.2)\n",
            "Requirement already satisfied: proto-plus<2.0.0dev,>=1.22.3 in /usr/local/lib/python3.10/dist-packages (from google-ai-generativelanguage==0.6.6->google-generativeai<0.8.0,>=0.7.0->langchain-google-genai) (1.24.0)\n",
            "Requirement already satisfied: PyYAML>=5.3 in /usr/local/lib/python3.10/dist-packages (from langchain-core<0.3,>=0.2.33->langchain-google-genai) (6.0.2)\n",
            "Requirement already satisfied: jsonpatch<2.0,>=1.33 in /usr/local/lib/python3.10/dist-packages (from langchain-core<0.3,>=0.2.33->langchain-google-genai) (1.33)\n",
            "Requirement already satisfied: langsmith<0.2.0,>=0.1.75 in /usr/local/lib/python3.10/dist-packages (from langchain-core<0.3,>=0.2.33->langchain-google-genai) (0.1.104)\n",
            "Requirement already satisfied: packaging<25,>=23.2 in /usr/local/lib/python3.10/dist-packages (from langchain-core<0.3,>=0.2.33->langchain-google-genai) (24.1)\n",
            "Requirement already satisfied: tenacity!=8.4.0,<9.0.0,>=8.1.0 in /usr/local/lib/python3.10/dist-packages (from langchain-core<0.3,>=0.2.33->langchain-google-genai) (8.5.0)\n",
            "Requirement already satisfied: googleapis-common-protos<2.0.dev0,>=1.56.2 in /usr/local/lib/python3.10/dist-packages (from google-api-core->google-generativeai<0.8.0,>=0.7.0->langchain-google-genai) (1.63.2)\n",
            "Requirement already satisfied: requests<3.0.0.dev0,>=2.18.0 in /usr/local/lib/python3.10/dist-packages (from google-api-core->google-generativeai<0.8.0,>=0.7.0->langchain-google-genai) (2.32.3)\n",
            "Requirement already satisfied: cachetools<6.0,>=2.0.0 in /usr/local/lib/python3.10/dist-packages (from google-auth>=2.15.0->google-generativeai<0.8.0,>=0.7.0->langchain-google-genai) (5.5.0)\n",
            "Requirement already satisfied: pyasn1-modules>=0.2.1 in /usr/local/lib/python3.10/dist-packages (from google-auth>=2.15.0->google-generativeai<0.8.0,>=0.7.0->langchain-google-genai) (0.4.0)\n",
            "Requirement already satisfied: rsa<5,>=3.1.4 in /usr/local/lib/python3.10/dist-packages (from google-auth>=2.15.0->google-generativeai<0.8.0,>=0.7.0->langchain-google-genai) (4.9)\n",
            "Requirement already satisfied: jsonpointer>=1.9 in /usr/local/lib/python3.10/dist-packages (from jsonpatch<2.0,>=1.33->langchain-core<0.3,>=0.2.33->langchain-google-genai) (3.0.0)\n",
            "Requirement already satisfied: httpx<1,>=0.23.0 in /usr/local/lib/python3.10/dist-packages (from langsmith<0.2.0,>=0.1.75->langchain-core<0.3,>=0.2.33->langchain-google-genai) (0.27.0)\n",
            "Requirement already satisfied: orjson<4.0.0,>=3.9.14 in /usr/local/lib/python3.10/dist-packages (from langsmith<0.2.0,>=0.1.75->langchain-core<0.3,>=0.2.33->langchain-google-genai) (3.10.7)\n",
            "Requirement already satisfied: annotated-types>=0.4.0 in /usr/local/lib/python3.10/dist-packages (from pydantic->google-generativeai<0.8.0,>=0.7.0->langchain-google-genai) (0.7.0)\n",
            "Requirement already satisfied: pydantic-core==2.20.1 in /usr/local/lib/python3.10/dist-packages (from pydantic->google-generativeai<0.8.0,>=0.7.0->langchain-google-genai) (2.20.1)\n",
            "Requirement already satisfied: httplib2<1.dev0,>=0.19.0 in /usr/local/lib/python3.10/dist-packages (from google-api-python-client->google-generativeai<0.8.0,>=0.7.0->langchain-google-genai) (0.22.0)\n",
            "Requirement already satisfied: google-auth-httplib2<1.0.0,>=0.2.0 in /usr/local/lib/python3.10/dist-packages (from google-api-python-client->google-generativeai<0.8.0,>=0.7.0->langchain-google-genai) (0.2.0)\n",
            "Requirement already satisfied: uritemplate<5,>=3.0.1 in /usr/local/lib/python3.10/dist-packages (from google-api-python-client->google-generativeai<0.8.0,>=0.7.0->langchain-google-genai) (4.1.1)\n",
            "Requirement already satisfied: grpcio<2.0dev,>=1.33.2 in /usr/local/lib/python3.10/dist-packages (from google-api-core[grpc]!=2.0.*,!=2.1.*,!=2.10.*,!=2.2.*,!=2.3.*,!=2.4.*,!=2.5.*,!=2.6.*,!=2.7.*,!=2.8.*,!=2.9.*,<3.0.0dev,>=1.34.1->google-ai-generativelanguage==0.6.6->google-generativeai<0.8.0,>=0.7.0->langchain-google-genai) (1.64.1)\n",
            "Requirement already satisfied: grpcio-status<2.0.dev0,>=1.33.2 in /usr/local/lib/python3.10/dist-packages (from google-api-core[grpc]!=2.0.*,!=2.1.*,!=2.10.*,!=2.2.*,!=2.3.*,!=2.4.*,!=2.5.*,!=2.6.*,!=2.7.*,!=2.8.*,!=2.9.*,<3.0.0dev,>=1.34.1->google-ai-generativelanguage==0.6.6->google-generativeai<0.8.0,>=0.7.0->langchain-google-genai) (1.48.2)\n",
            "Requirement already satisfied: pyparsing!=3.0.0,!=3.0.1,!=3.0.2,!=3.0.3,<4,>=2.4.2 in /usr/local/lib/python3.10/dist-packages (from httplib2<1.dev0,>=0.19.0->google-api-python-client->google-generativeai<0.8.0,>=0.7.0->langchain-google-genai) (3.1.2)\n",
            "Requirement already satisfied: anyio in /usr/local/lib/python3.10/dist-packages (from httpx<1,>=0.23.0->langsmith<0.2.0,>=0.1.75->langchain-core<0.3,>=0.2.33->langchain-google-genai) (3.7.1)\n",
            "Requirement already satisfied: certifi in /usr/local/lib/python3.10/dist-packages (from httpx<1,>=0.23.0->langsmith<0.2.0,>=0.1.75->langchain-core<0.3,>=0.2.33->langchain-google-genai) (2024.7.4)\n",
            "Requirement already satisfied: httpcore==1.* in /usr/local/lib/python3.10/dist-packages (from httpx<1,>=0.23.0->langsmith<0.2.0,>=0.1.75->langchain-core<0.3,>=0.2.33->langchain-google-genai) (1.0.5)\n",
            "Requirement already satisfied: idna in /usr/local/lib/python3.10/dist-packages (from httpx<1,>=0.23.0->langsmith<0.2.0,>=0.1.75->langchain-core<0.3,>=0.2.33->langchain-google-genai) (3.7)\n",
            "Requirement already satisfied: sniffio in /usr/local/lib/python3.10/dist-packages (from httpx<1,>=0.23.0->langsmith<0.2.0,>=0.1.75->langchain-core<0.3,>=0.2.33->langchain-google-genai) (1.3.1)\n",
            "Requirement already satisfied: h11<0.15,>=0.13 in /usr/local/lib/python3.10/dist-packages (from httpcore==1.*->httpx<1,>=0.23.0->langsmith<0.2.0,>=0.1.75->langchain-core<0.3,>=0.2.33->langchain-google-genai) (0.14.0)\n",
            "Requirement already satisfied: pyasn1<0.7.0,>=0.4.6 in /usr/local/lib/python3.10/dist-packages (from pyasn1-modules>=0.2.1->google-auth>=2.15.0->google-generativeai<0.8.0,>=0.7.0->langchain-google-genai) (0.6.0)\n",
            "Requirement already satisfied: charset-normalizer<4,>=2 in /usr/local/lib/python3.10/dist-packages (from requests<3.0.0.dev0,>=2.18.0->google-api-core->google-generativeai<0.8.0,>=0.7.0->langchain-google-genai) (3.3.2)\n",
            "Requirement already satisfied: urllib3<3,>=1.21.1 in /usr/local/lib/python3.10/dist-packages (from requests<3.0.0.dev0,>=2.18.0->google-api-core->google-generativeai<0.8.0,>=0.7.0->langchain-google-genai) (2.0.7)\n",
            "Requirement already satisfied: exceptiongroup in /usr/local/lib/python3.10/dist-packages (from anyio->httpx<1,>=0.23.0->langsmith<0.2.0,>=0.1.75->langchain-core<0.3,>=0.2.33->langchain-google-genai) (1.2.2)\n",
            "Requirement already satisfied: langchain in /usr/local/lib/python3.10/dist-packages (0.2.14)\n",
            "Requirement already satisfied: PyYAML>=5.3 in /usr/local/lib/python3.10/dist-packages (from langchain) (6.0.2)\n",
            "Requirement already satisfied: SQLAlchemy<3,>=1.4 in /usr/local/lib/python3.10/dist-packages (from langchain) (2.0.32)\n",
            "Requirement already satisfied: aiohttp<4.0.0,>=3.8.3 in /usr/local/lib/python3.10/dist-packages (from langchain) (3.10.5)\n",
            "Requirement already satisfied: async-timeout<5.0.0,>=4.0.0 in /usr/local/lib/python3.10/dist-packages (from langchain) (4.0.3)\n",
            "Requirement already satisfied: langchain-core<0.3.0,>=0.2.32 in /usr/local/lib/python3.10/dist-packages (from langchain) (0.2.34)\n",
            "Requirement already satisfied: langchain-text-splitters<0.3.0,>=0.2.0 in /usr/local/lib/python3.10/dist-packages (from langchain) (0.2.2)\n",
            "Requirement already satisfied: langsmith<0.2.0,>=0.1.17 in /usr/local/lib/python3.10/dist-packages (from langchain) (0.1.104)\n",
            "Requirement already satisfied: numpy<2,>=1 in /usr/local/lib/python3.10/dist-packages (from langchain) (1.26.4)\n",
            "Requirement already satisfied: pydantic<3,>=1 in /usr/local/lib/python3.10/dist-packages (from langchain) (2.8.2)\n",
            "Requirement already satisfied: requests<3,>=2 in /usr/local/lib/python3.10/dist-packages (from langchain) (2.32.3)\n",
            "Requirement already satisfied: tenacity!=8.4.0,<9.0.0,>=8.1.0 in /usr/local/lib/python3.10/dist-packages (from langchain) (8.5.0)\n",
            "Requirement already satisfied: aiohappyeyeballs>=2.3.0 in /usr/local/lib/python3.10/dist-packages (from aiohttp<4.0.0,>=3.8.3->langchain) (2.4.0)\n",
            "Requirement already satisfied: aiosignal>=1.1.2 in /usr/local/lib/python3.10/dist-packages (from aiohttp<4.0.0,>=3.8.3->langchain) (1.3.1)\n",
            "Requirement already satisfied: attrs>=17.3.0 in /usr/local/lib/python3.10/dist-packages (from aiohttp<4.0.0,>=3.8.3->langchain) (24.2.0)\n",
            "Requirement already satisfied: frozenlist>=1.1.1 in /usr/local/lib/python3.10/dist-packages (from aiohttp<4.0.0,>=3.8.3->langchain) (1.4.1)\n",
            "Requirement already satisfied: multidict<7.0,>=4.5 in /usr/local/lib/python3.10/dist-packages (from aiohttp<4.0.0,>=3.8.3->langchain) (6.0.5)\n",
            "Requirement already satisfied: yarl<2.0,>=1.0 in /usr/local/lib/python3.10/dist-packages (from aiohttp<4.0.0,>=3.8.3->langchain) (1.9.4)\n",
            "Requirement already satisfied: jsonpatch<2.0,>=1.33 in /usr/local/lib/python3.10/dist-packages (from langchain-core<0.3.0,>=0.2.32->langchain) (1.33)\n",
            "Requirement already satisfied: packaging<25,>=23.2 in /usr/local/lib/python3.10/dist-packages (from langchain-core<0.3.0,>=0.2.32->langchain) (24.1)\n",
            "Requirement already satisfied: typing-extensions>=4.7 in /usr/local/lib/python3.10/dist-packages (from langchain-core<0.3.0,>=0.2.32->langchain) (4.12.2)\n",
            "Requirement already satisfied: httpx<1,>=0.23.0 in /usr/local/lib/python3.10/dist-packages (from langsmith<0.2.0,>=0.1.17->langchain) (0.27.0)\n",
            "Requirement already satisfied: orjson<4.0.0,>=3.9.14 in /usr/local/lib/python3.10/dist-packages (from langsmith<0.2.0,>=0.1.17->langchain) (3.10.7)\n",
            "Requirement already satisfied: annotated-types>=0.4.0 in /usr/local/lib/python3.10/dist-packages (from pydantic<3,>=1->langchain) (0.7.0)\n",
            "Requirement already satisfied: pydantic-core==2.20.1 in /usr/local/lib/python3.10/dist-packages (from pydantic<3,>=1->langchain) (2.20.1)\n",
            "Requirement already satisfied: charset-normalizer<4,>=2 in /usr/local/lib/python3.10/dist-packages (from requests<3,>=2->langchain) (3.3.2)\n",
            "Requirement already satisfied: idna<4,>=2.5 in /usr/local/lib/python3.10/dist-packages (from requests<3,>=2->langchain) (3.7)\n",
            "Requirement already satisfied: urllib3<3,>=1.21.1 in /usr/local/lib/python3.10/dist-packages (from requests<3,>=2->langchain) (2.0.7)\n",
            "Requirement already satisfied: certifi>=2017.4.17 in /usr/local/lib/python3.10/dist-packages (from requests<3,>=2->langchain) (2024.7.4)\n",
            "Requirement already satisfied: greenlet!=0.4.17 in /usr/local/lib/python3.10/dist-packages (from SQLAlchemy<3,>=1.4->langchain) (3.0.3)\n",
            "Requirement already satisfied: anyio in /usr/local/lib/python3.10/dist-packages (from httpx<1,>=0.23.0->langsmith<0.2.0,>=0.1.17->langchain) (3.7.1)\n",
            "Requirement already satisfied: httpcore==1.* in /usr/local/lib/python3.10/dist-packages (from httpx<1,>=0.23.0->langsmith<0.2.0,>=0.1.17->langchain) (1.0.5)\n",
            "Requirement already satisfied: sniffio in /usr/local/lib/python3.10/dist-packages (from httpx<1,>=0.23.0->langsmith<0.2.0,>=0.1.17->langchain) (1.3.1)\n",
            "Requirement already satisfied: h11<0.15,>=0.13 in /usr/local/lib/python3.10/dist-packages (from httpcore==1.*->httpx<1,>=0.23.0->langsmith<0.2.0,>=0.1.17->langchain) (0.14.0)\n",
            "Requirement already satisfied: jsonpointer>=1.9 in /usr/local/lib/python3.10/dist-packages (from jsonpatch<2.0,>=1.33->langchain-core<0.3.0,>=0.2.32->langchain) (3.0.0)\n",
            "Requirement already satisfied: exceptiongroup in /usr/local/lib/python3.10/dist-packages (from anyio->httpx<1,>=0.23.0->langsmith<0.2.0,>=0.1.17->langchain) (1.2.2)\n",
            "Requirement already satisfied: langchain_community in /usr/local/lib/python3.10/dist-packages (0.2.12)\n",
            "Requirement already satisfied: PyYAML>=5.3 in /usr/local/lib/python3.10/dist-packages (from langchain_community) (6.0.2)\n",
            "Requirement already satisfied: SQLAlchemy<3,>=1.4 in /usr/local/lib/python3.10/dist-packages (from langchain_community) (2.0.32)\n",
            "Requirement already satisfied: aiohttp<4.0.0,>=3.8.3 in /usr/local/lib/python3.10/dist-packages (from langchain_community) (3.10.5)\n",
            "Requirement already satisfied: dataclasses-json<0.7,>=0.5.7 in /usr/local/lib/python3.10/dist-packages (from langchain_community) (0.6.7)\n",
            "Requirement already satisfied: langchain<0.3.0,>=0.2.13 in /usr/local/lib/python3.10/dist-packages (from langchain_community) (0.2.14)\n",
            "Requirement already satisfied: langchain-core<0.3.0,>=0.2.30 in /usr/local/lib/python3.10/dist-packages (from langchain_community) (0.2.34)\n",
            "Requirement already satisfied: langsmith<0.2.0,>=0.1.0 in /usr/local/lib/python3.10/dist-packages (from langchain_community) (0.1.104)\n",
            "Requirement already satisfied: numpy<2,>=1 in /usr/local/lib/python3.10/dist-packages (from langchain_community) (1.26.4)\n",
            "Requirement already satisfied: requests<3,>=2 in /usr/local/lib/python3.10/dist-packages (from langchain_community) (2.32.3)\n",
            "Requirement already satisfied: tenacity!=8.4.0,<9.0.0,>=8.1.0 in /usr/local/lib/python3.10/dist-packages (from langchain_community) (8.5.0)\n",
            "Requirement already satisfied: aiohappyeyeballs>=2.3.0 in /usr/local/lib/python3.10/dist-packages (from aiohttp<4.0.0,>=3.8.3->langchain_community) (2.4.0)\n",
            "Requirement already satisfied: aiosignal>=1.1.2 in /usr/local/lib/python3.10/dist-packages (from aiohttp<4.0.0,>=3.8.3->langchain_community) (1.3.1)\n",
            "Requirement already satisfied: attrs>=17.3.0 in /usr/local/lib/python3.10/dist-packages (from aiohttp<4.0.0,>=3.8.3->langchain_community) (24.2.0)\n",
            "Requirement already satisfied: frozenlist>=1.1.1 in /usr/local/lib/python3.10/dist-packages (from aiohttp<4.0.0,>=3.8.3->langchain_community) (1.4.1)\n",
            "Requirement already satisfied: multidict<7.0,>=4.5 in /usr/local/lib/python3.10/dist-packages (from aiohttp<4.0.0,>=3.8.3->langchain_community) (6.0.5)\n",
            "Requirement already satisfied: yarl<2.0,>=1.0 in /usr/local/lib/python3.10/dist-packages (from aiohttp<4.0.0,>=3.8.3->langchain_community) (1.9.4)\n",
            "Requirement already satisfied: async-timeout<5.0,>=4.0 in /usr/local/lib/python3.10/dist-packages (from aiohttp<4.0.0,>=3.8.3->langchain_community) (4.0.3)\n",
            "Requirement already satisfied: marshmallow<4.0.0,>=3.18.0 in /usr/local/lib/python3.10/dist-packages (from dataclasses-json<0.7,>=0.5.7->langchain_community) (3.22.0)\n",
            "Requirement already satisfied: typing-inspect<1,>=0.4.0 in /usr/local/lib/python3.10/dist-packages (from dataclasses-json<0.7,>=0.5.7->langchain_community) (0.9.0)\n",
            "Requirement already satisfied: langchain-text-splitters<0.3.0,>=0.2.0 in /usr/local/lib/python3.10/dist-packages (from langchain<0.3.0,>=0.2.13->langchain_community) (0.2.2)\n",
            "Requirement already satisfied: pydantic<3,>=1 in /usr/local/lib/python3.10/dist-packages (from langchain<0.3.0,>=0.2.13->langchain_community) (2.8.2)\n",
            "Requirement already satisfied: jsonpatch<2.0,>=1.33 in /usr/local/lib/python3.10/dist-packages (from langchain-core<0.3.0,>=0.2.30->langchain_community) (1.33)\n",
            "Requirement already satisfied: packaging<25,>=23.2 in /usr/local/lib/python3.10/dist-packages (from langchain-core<0.3.0,>=0.2.30->langchain_community) (24.1)\n",
            "Requirement already satisfied: typing-extensions>=4.7 in /usr/local/lib/python3.10/dist-packages (from langchain-core<0.3.0,>=0.2.30->langchain_community) (4.12.2)\n",
            "Requirement already satisfied: httpx<1,>=0.23.0 in /usr/local/lib/python3.10/dist-packages (from langsmith<0.2.0,>=0.1.0->langchain_community) (0.27.0)\n",
            "Requirement already satisfied: orjson<4.0.0,>=3.9.14 in /usr/local/lib/python3.10/dist-packages (from langsmith<0.2.0,>=0.1.0->langchain_community) (3.10.7)\n",
            "Requirement already satisfied: charset-normalizer<4,>=2 in /usr/local/lib/python3.10/dist-packages (from requests<3,>=2->langchain_community) (3.3.2)\n",
            "Requirement already satisfied: idna<4,>=2.5 in /usr/local/lib/python3.10/dist-packages (from requests<3,>=2->langchain_community) (3.7)\n",
            "Requirement already satisfied: urllib3<3,>=1.21.1 in /usr/local/lib/python3.10/dist-packages (from requests<3,>=2->langchain_community) (2.0.7)\n",
            "Requirement already satisfied: certifi>=2017.4.17 in /usr/local/lib/python3.10/dist-packages (from requests<3,>=2->langchain_community) (2024.7.4)\n",
            "Requirement already satisfied: greenlet!=0.4.17 in /usr/local/lib/python3.10/dist-packages (from SQLAlchemy<3,>=1.4->langchain_community) (3.0.3)\n",
            "Requirement already satisfied: anyio in /usr/local/lib/python3.10/dist-packages (from httpx<1,>=0.23.0->langsmith<0.2.0,>=0.1.0->langchain_community) (3.7.1)\n",
            "Requirement already satisfied: httpcore==1.* in /usr/local/lib/python3.10/dist-packages (from httpx<1,>=0.23.0->langsmith<0.2.0,>=0.1.0->langchain_community) (1.0.5)\n",
            "Requirement already satisfied: sniffio in /usr/local/lib/python3.10/dist-packages (from httpx<1,>=0.23.0->langsmith<0.2.0,>=0.1.0->langchain_community) (1.3.1)\n",
            "Requirement already satisfied: h11<0.15,>=0.13 in /usr/local/lib/python3.10/dist-packages (from httpcore==1.*->httpx<1,>=0.23.0->langsmith<0.2.0,>=0.1.0->langchain_community) (0.14.0)\n",
            "Requirement already satisfied: jsonpointer>=1.9 in /usr/local/lib/python3.10/dist-packages (from jsonpatch<2.0,>=1.33->langchain-core<0.3.0,>=0.2.30->langchain_community) (3.0.0)\n",
            "Requirement already satisfied: annotated-types>=0.4.0 in /usr/local/lib/python3.10/dist-packages (from pydantic<3,>=1->langchain<0.3.0,>=0.2.13->langchain_community) (0.7.0)\n",
            "Requirement already satisfied: pydantic-core==2.20.1 in /usr/local/lib/python3.10/dist-packages (from pydantic<3,>=1->langchain<0.3.0,>=0.2.13->langchain_community) (2.20.1)\n",
            "Requirement already satisfied: mypy-extensions>=0.3.0 in /usr/local/lib/python3.10/dist-packages (from typing-inspect<1,>=0.4.0->dataclasses-json<0.7,>=0.5.7->langchain_community) (1.0.0)\n",
            "Requirement already satisfied: exceptiongroup in /usr/local/lib/python3.10/dist-packages (from anyio->httpx<1,>=0.23.0->langsmith<0.2.0,>=0.1.0->langchain_community) (1.2.2)\n"
          ]
        }
      ]
    },
    {
      "cell_type": "code",
      "source": [
        "%pip install -U nltk"
      ],
      "metadata": {
        "colab": {
          "base_uri": "https://localhost:8080/"
        },
        "id": "tVZnbVma1cW-",
        "outputId": "77298b89-90a7-4a98-d45f-e3861d4b76ff"
      },
      "execution_count": 4,
      "outputs": [
        {
          "output_type": "stream",
          "name": "stdout",
          "text": [
            "Requirement already satisfied: nltk in /usr/local/lib/python3.10/dist-packages (3.8.1)\n",
            "Collecting nltk\n",
            "  Using cached nltk-3.9.1-py3-none-any.whl.metadata (2.9 kB)\n",
            "Requirement already satisfied: click in /usr/local/lib/python3.10/dist-packages (from nltk) (8.1.7)\n",
            "Requirement already satisfied: joblib in /usr/local/lib/python3.10/dist-packages (from nltk) (1.4.2)\n",
            "Requirement already satisfied: regex>=2021.8.3 in /usr/local/lib/python3.10/dist-packages (from nltk) (2024.5.15)\n",
            "Requirement already satisfied: tqdm in /usr/local/lib/python3.10/dist-packages (from nltk) (4.66.5)\n",
            "Using cached nltk-3.9.1-py3-none-any.whl (1.5 MB)\n",
            "Installing collected packages: nltk\n",
            "  Attempting uninstall: nltk\n",
            "    Found existing installation: nltk 3.8.1\n",
            "    Uninstalling nltk-3.8.1:\n",
            "      Successfully uninstalled nltk-3.8.1\n",
            "Successfully installed nltk-3.9.1\n"
          ]
        }
      ]
    },
    {
      "cell_type": "code",
      "source": [
        "import os\n",
        "import uuid\n",
        "import base64\n",
        "from IPython import display\n",
        "from unstructured.partition.pdf import partition_pdf\n",
        "from langchain_google_genai import ChatGoogleGenerativeAI\n",
        "from langchain_google_genai import GoogleGenerativeAIEmbeddings\n",
        "from langchain.schema.messages import HumanMessage, SystemMessage\n",
        "from langchain.schema.document import Document\n",
        "from langchain.vectorstores import FAISS\n",
        "from langchain.retrievers.multi_vector import MultiVectorRetriever\n",
        "from langchain.chains import LLMChain\n",
        "from langchain.prompts import PromptTemplate"
      ],
      "metadata": {
        "id": "4oje-c2XyVXS"
      },
      "execution_count": 234,
      "outputs": []
    },
    {
      "cell_type": "code",
      "source": [
        "import os\n",
        "from google.colab import userdata\n",
        "GOOGLE_API_KEYS =userdata.get('GOOGLE_API_KEYS')\n",
        "os.environ[\"GOOGLE_API_KEYS\"] = GOOGLE_API_KEYS"
      ],
      "metadata": {
        "id": "dZ50zSWX0Kmk"
      },
      "execution_count": 144,
      "outputs": []
    },
    {
      "cell_type": "code",
      "source": [
        "output_path = \"./images\""
      ],
      "metadata": {
        "id": "UmecRHA00bvH"
      },
      "execution_count": 7,
      "outputs": []
    },
    {
      "cell_type": "code",
      "source": [
        "# Get elements\n",
        "raw_pdf_elements = partition_pdf(\n",
        "    filename=\"/content/HKDSE_PHYSICS_PAST_PAPER_1_ENG.pdf\",\n",
        "    extract_images_in_pdf=True,\n",
        "    infer_table_structure=True,\n",
        "    chunking_strategy=\"by_title\",\n",
        "    max_characters=4000,\n",
        "    new_after_n_chars=3800,\n",
        "    combine_text_under_n_chars=2000,\n",
        "    extract_image_block_output_dir=output_path,\n",
        ")"
      ],
      "metadata": {
        "colab": {
          "base_uri": "https://localhost:8080/",
          "height": 217,
          "referenced_widgets": [
            "5e54ff063204446fa441fc3f4d18d267",
            "7c43bad8722944eda8f984a5856987be",
            "04f729c9e5ec41988f5e9b93e35c5209",
            "12c3ae353d2b4cddaafd526418b20338",
            "ad5acdba602541279a4374dc5529ecea",
            "31eeb5a79e2d4811a231293359d6be14",
            "adeb30f453444a3ba1850f8d6946276c",
            "4e0a1aa44d65406094027386e0412a15",
            "a047d1b156da436a87961998675495fe",
            "e0dc158bc75a43d99996d77cecdebfa8",
            "223993b1ed524906a6753d10009742f1",
            "ef2f67fc794d4779bf25b1761829fa11",
            "6cfa4ca02ff84a96894c06a025a07e7c",
            "047f3cfaa2704fd7b582ea941a8b08e9",
            "0e063be1ba154e6b9864749243348c03",
            "4497487d54394c93b8222b90e9e00bfc",
            "4f3467796b7a4486b4f10eb983939a2d",
            "39346d0279c94712854e49cfd7f76e44",
            "0242442d28d54f24906116408c1a981c",
            "53e48fe290d54e268574cd26cfcc0036",
            "63e8f120a60d4ed19e7eb8047d485d55",
            "a782fef924b947a2b74b6f76a8842075",
            "db04bee54921411ebe195672a62cbf74",
            "bdb4635003764985bf06cebec12a8f4c",
            "1c8819f20b1246418cf270a45f2d0087",
            "245db05e164b46868e9db1614e931bae",
            "6daedf2e105a4c0db3f5ffe9a8712730",
            "f53d2bab3cf049c0bf23ef2aabfc93cb",
            "4e2d9a61897c48a8b4b5180706c9263c",
            "a5abddf93168433592ba0e17c73635ae",
            "e4ed0a8b3ee54ae7b177c8c72e2f3978",
            "3001c8f6ad7f4dd1a63c612b8d1d5f4f",
            "e2944a718e4648818f5884faede6c1bb",
            "f4aaa127806d42218f2a783c52406671",
            "fb1df682bbe849bba07b517348eb413a",
            "3409efe8a84740bdb0726373c9391c22",
            "c109b24d5f0c4d9ab568941cfacaa637",
            "9ccccd710f0c4746ac3a49bbeacd5eb2",
            "16cd5f160ccc4477b8733e855a31292d",
            "99b9508af12d43ecb1281d550dd3df0b",
            "baab00f0033449e6a1d4ee30476a215d",
            "ea818e7821aa41d58fb5c68e1534c8c7",
            "328f587ff13d4b43ae24433f83fe35ae",
            "b63d9feb9e32423ca03288f203af703e"
          ]
        },
        "id": "lbov2vts0eA_",
        "outputId": "700a6bd0-3d5a-4f9d-fbbf-1810b2844724"
      },
      "execution_count": 8,
      "outputs": [
        {
          "output_type": "display_data",
          "data": {
            "text/plain": [
              "yolox_l0.05.onnx:   0%|          | 0.00/217M [00:00<?, ?B/s]"
            ],
            "application/vnd.jupyter.widget-view+json": {
              "version_major": 2,
              "version_minor": 0,
              "model_id": "5e54ff063204446fa441fc3f4d18d267"
            }
          },
          "metadata": {}
        },
        {
          "output_type": "display_data",
          "data": {
            "text/plain": [
              "config.json:   0%|          | 0.00/1.47k [00:00<?, ?B/s]"
            ],
            "application/vnd.jupyter.widget-view+json": {
              "version_major": 2,
              "version_minor": 0,
              "model_id": "ef2f67fc794d4779bf25b1761829fa11"
            }
          },
          "metadata": {}
        },
        {
          "output_type": "display_data",
          "data": {
            "text/plain": [
              "model.safetensors:   0%|          | 0.00/115M [00:00<?, ?B/s]"
            ],
            "application/vnd.jupyter.widget-view+json": {
              "version_major": 2,
              "version_minor": 0,
              "model_id": "db04bee54921411ebe195672a62cbf74"
            }
          },
          "metadata": {}
        },
        {
          "output_type": "display_data",
          "data": {
            "text/plain": [
              "model.safetensors:   0%|          | 0.00/46.8M [00:00<?, ?B/s]"
            ],
            "application/vnd.jupyter.widget-view+json": {
              "version_major": 2,
              "version_minor": 0,
              "model_id": "f4aaa127806d42218f2a783c52406671"
            }
          },
          "metadata": {}
        },
        {
          "output_type": "stream",
          "name": "stderr",
          "text": [
            "Some weights of the model checkpoint at microsoft/table-transformer-structure-recognition were not used when initializing TableTransformerForObjectDetection: ['model.backbone.conv_encoder.model.layer2.0.downsample.1.num_batches_tracked', 'model.backbone.conv_encoder.model.layer3.0.downsample.1.num_batches_tracked', 'model.backbone.conv_encoder.model.layer4.0.downsample.1.num_batches_tracked']\n",
            "- This IS expected if you are initializing TableTransformerForObjectDetection from the checkpoint of a model trained on another task or with another architecture (e.g. initializing a BertForSequenceClassification model from a BertForPreTraining model).\n",
            "- This IS NOT expected if you are initializing TableTransformerForObjectDetection from the checkpoint of a model that you expect to be exactly identical (initializing a BertForSequenceClassification model from a BertForSequenceClassification model).\n"
          ]
        }
      ]
    },
    {
      "cell_type": "code",
      "source": [
        "raw_pdf_elements"
      ],
      "metadata": {
        "colab": {
          "base_uri": "https://localhost:8080/"
        },
        "id": "eeZpvmcw4iRX",
        "outputId": "82b52b44-4d48-4aed-a020-54bd2c1843c9"
      },
      "execution_count": 9,
      "outputs": [
        {
          "output_type": "execute_result",
          "data": {
            "text/plain": [
              "[<unstructured.documents.elements.CompositeElement at 0x790965dfe1a0>,\n",
              " <unstructured.documents.elements.CompositeElement at 0x790965dfd4b0>,\n",
              " <unstructured.documents.elements.CompositeElement at 0x790965dfeda0>,\n",
              " <unstructured.documents.elements.CompositeElement at 0x790965dfe890>,\n",
              " <unstructured.documents.elements.CompositeElement at 0x790965dfd780>,\n",
              " <unstructured.documents.elements.CompositeElement at 0x7908b2ab9390>,\n",
              " <unstructured.documents.elements.Table at 0x7909690269b0>,\n",
              " <unstructured.documents.elements.CompositeElement at 0x7908b2ab9930>,\n",
              " <unstructured.documents.elements.CompositeElement at 0x7909681db2b0>,\n",
              " <unstructured.documents.elements.Table at 0x790965f44130>,\n",
              " <unstructured.documents.elements.CompositeElement at 0x7909681db700>,\n",
              " <unstructured.documents.elements.Table at 0x790965f443d0>,\n",
              " <unstructured.documents.elements.CompositeElement at 0x790965f44160>,\n",
              " <unstructured.documents.elements.Table at 0x790965f44190>,\n",
              " <unstructured.documents.elements.CompositeElement at 0x790965f443a0>,\n",
              " <unstructured.documents.elements.Table at 0x790965f446a0>,\n",
              " <unstructured.documents.elements.CompositeElement at 0x790965f44af0>,\n",
              " <unstructured.documents.elements.Table at 0x790965f44d90>,\n",
              " <unstructured.documents.elements.CompositeElement at 0x790965e6b2e0>]"
            ]
          },
          "metadata": {},
          "execution_count": 9
        }
      ]
    },
    {
      "cell_type": "code",
      "source": [
        "from langchain_core.output_parsers import StrOutputParser\n",
        "from langchain_core.prompts import ChatPromptTemplate"
      ],
      "metadata": {
        "id": "CNfdA6_Kp0sL"
      },
      "execution_count": 10,
      "outputs": []
    },
    {
      "cell_type": "code",
      "source": [
        "# Get text summaries and table summaries\n",
        "text_elements = []\n",
        "table_elements = []\n",
        "\n",
        "text_summaries = []\n",
        "table_summaries = []\n",
        "\n",
        "summary_prompt = \"\"\"\n",
        "Summarize the following {element_type}:\n",
        "{element}\n",
        "\"\"\"\n",
        "model = ChatGoogleGenerativeAI(temperature=0, model=\"gemini-1.5-pro\")\n",
        "prompt = ChatPromptTemplate.from_template(summary_prompt)\n",
        "\n",
        "summary_chain = {\"element_type\": lambda x: x[\"element_type\"], \"element\": lambda x: x[\"element\"]} | prompt | model | StrOutputParser()\n",
        "\n",
        "for e in raw_pdf_elements:\n",
        "    if 'CompositeElement' in repr(e):\n",
        "        text_elements.append(e.text)\n",
        "        summary = summary_chain.invoke({'element_type': 'text', 'element': e})\n",
        "        text_summaries.append(summary)\n",
        "\n",
        "    elif 'Table' in repr(e):\n",
        "        table_elements.append(e.text)\n",
        "        summary = summary_chain.invoke({'element_type': 'table', 'element': e})\n",
        "        table_summaries.append(summary)"
      ],
      "metadata": {
        "id": "pMUbyR9M0mhs"
      },
      "execution_count": 152,
      "outputs": []
    },
    {
      "cell_type": "code",
      "source": [
        "text_elements[0]"
      ],
      "metadata": {
        "colab": {
          "base_uri": "https://localhost:8080/",
          "height": 123
        },
        "id": "nEKsTOwX1AEO",
        "outputId": "4e15b46e-4135-4a86-8720-9973edc0d3b5"
      },
      "execution_count": 99,
      "outputs": [
        {
          "output_type": "execute_result",
          "data": {
            "text/plain": [
              "\"PP-DSE  PHY  \\n\\nPP-DSE PHY\\n\\nHONG KONG EXAMINATIONS AND ASSESSMENT AUTHORITY HONG KONG DIPLOMA OF SECONDARY EDUCATION EXAMINATION\\n\\nPRACTICE PAPER\\n\\nPRACTICE PAPER\\n\\nPHYSICS PAPER 1\\n\\nPHYSICS PAPER 1\\n\\n(2 hours 30 minutes)\\n\\nThis paper must be answered\\n\\nin English\\n\\nGENERAL INSTRUCTIONS\\n\\nA and B, in this Paper. You are advised to伽shSection 1. There are TWO sections, 60 minutes.\\n\\nA in about\\n\\nquestion A consists paper, while Section of multiple-choice questions in this 2. Section conventional printed in Question-Answer separately questions Book B.\\n\\nB contains\\n\\nA should be marked on the Multiple-choice 3. Answers Answer Sheet while answers to to Section B should be written in Question-Answer Section Sheet for Section A and the Question-Answer at the end of the examination. separately Book B. The Answer Book for Section B will be collected in the spaces provided\\n\\n4. The diagrams in this paper are NOT necessarily drawn to scale\\n\\na list of data, formulae and relationships which paper contain 5. The last pages of this question you may find useful.\\n\\nINSTRUCTIONS FOR SECTION A (MULTIPLE-CHOICE\\n\\nQUESTIONS)\\n\\nof the start of the the instructions 1. Read carefully examination, provided. announcement. on the Answer Sheet. After the announcement required the information on the barcode label after the'Time is up' you should first label and insert stick a barcode in the spaces No extra time will be given for sticking\\n\\ncheck that all the questions are there. Look for the words 2. When told to open this book, you should 'END OF SECTION A'after the last question.\\n\\ncarry equal marks 3. All questions\\n\\nthe answers on the You must mark You are advised to use an HB pencil to mark all 4. ANSWER ALL QUESTIONS. erased with a clean rubber. marks if the answers cannot be captured Answer Sheet, so that wrong marks can be completely the answers otherwise you will lose clearly;\\n\\n5. You should mark only ONE answer for each question. If you mark more than one answer, NO MARKS for that question. receive\\n\\nyou will\\n\\n6. No marks will be deducted\""
            ],
            "application/vnd.google.colaboratory.intrinsic+json": {
              "type": "string"
            }
          },
          "metadata": {},
          "execution_count": 99
        }
      ]
    },
    {
      "cell_type": "code",
      "source": [
        "text_summaries[0]"
      ],
      "metadata": {
        "colab": {
          "base_uri": "https://localhost:8080/",
          "height": 123
        },
        "id": "tGvkTzwIteV3",
        "outputId": "7a85ff90-7a2a-4d2f-828e-fdb7371e4860"
      },
      "execution_count": 100,
      "outputs": [
        {
          "output_type": "execute_result",
          "data": {
            "text/plain": [
              "\"This text is the cover page of a practice paper for the Hong Kong Diploma of Secondary Education Examination (HKDSE) in Physics Paper 1. It outlines the exam format, instructions, and important details for students taking the exam. \\n\\nHere's a summary of the key points:\\n\\n* **Exam Format:** The paper is divided into two sections: Section A (multiple-choice questions) and Section B (conventional questions).\\n* **Time Limit:** The exam lasts 2 hours and 30 minutes.\\n* **Language:** The exam must be answered in English.\\n* **Answering Instructions:** Section A answers are marked on a separate Multiple-Choice Answer Sheet, while Section B answers are written in the Question-Answer Book.\\n* **Diagrams:** Diagrams in the paper are not drawn to scale.\\n* **Data and Formulae:** The last pages of the paper contain a list of data, formulae, and relationships that may be useful for answering questions.\\n* **Multiple-Choice Instructions:** Students are instructed to read the instructions carefully, mark only one answer per question, and use an HB pencil to avoid losing marks. \\n* **Marking:** All questions carry equal marks, and no marks are deducted for incorrect answers. \\n\""
            ],
            "application/vnd.google.colaboratory.intrinsic+json": {
              "type": "string"
            }
          },
          "metadata": {},
          "execution_count": 100
        }
      ]
    },
    {
      "cell_type": "code",
      "source": [
        "len(table_summaries)"
      ],
      "metadata": {
        "colab": {
          "base_uri": "https://localhost:8080/"
        },
        "id": "_kEidv1O1FP9",
        "outputId": "84fe04f0-37bd-4b79-bd0b-ef64db5d936c"
      },
      "execution_count": 25,
      "outputs": [
        {
          "output_type": "execute_result",
          "data": {
            "text/plain": [
              "6"
            ]
          },
          "metadata": {},
          "execution_count": 25
        }
      ]
    },
    {
      "cell_type": "code",
      "source": [
        "len(text_summaries)"
      ],
      "metadata": {
        "colab": {
          "base_uri": "https://localhost:8080/"
        },
        "id": "8HK7TYGn3oGc",
        "outputId": "dad27fac-ebad-45a1-d69c-0e73d86387b4"
      },
      "execution_count": 26,
      "outputs": [
        {
          "output_type": "execute_result",
          "data": {
            "text/plain": [
              "13"
            ]
          },
          "metadata": {},
          "execution_count": 26
        }
      ]
    },
    {
      "cell_type": "code",
      "source": [
        "# Get image summaries\n",
        "image_elements = []\n",
        "image_summaries = []\n",
        "\n",
        "def encode_image(image_path):\n",
        "    with open(image_path, \"rb\") as f:\n",
        "        return base64.b64encode(f.read()).decode('utf-8')\n",
        "\n",
        "def summarize_image(encoded_image):\n",
        "    prompt = [\n",
        "        SystemMessage(content=\"You are a bot that is good at analyzing images.\"),\n",
        "        HumanMessage(content=[\n",
        "            {\n",
        "                \"type\": \"text\",\n",
        "                \"text\": \"Describe the contents of this image.\"\n",
        "            },\n",
        "            {\n",
        "                \"type\": \"image_url\",\n",
        "                \"image_url\": {\n",
        "                    \"url\": f\"data:image/jpeg;base64,{encoded_image}\"\n",
        "                },\n",
        "            },\n",
        "        ])\n",
        "    ]\n",
        "    response = ChatGoogleGenerativeAI(model=\"gemini-1.5-flash\").invoke(prompt)\n",
        "    return response.content\n",
        "\n",
        "for i in os.listdir(output_path):\n",
        "    if i.endswith(('.png', '.jpg', '.jpeg')):\n",
        "        image_path = os.path.join(output_path, i)\n",
        "        encoded_image = encode_image(image_path)\n",
        "        image_elements.append(encoded_image)\n",
        "        summary = summarize_image(encoded_image)\n",
        "        image_summaries.append(summary)"
      ],
      "metadata": {
        "id": "nQs3OTVL3zvS"
      },
      "execution_count": 27,
      "outputs": []
    },
    {
      "cell_type": "code",
      "source": [
        "!pip install faiss-cpu"
      ],
      "metadata": {
        "colab": {
          "base_uri": "https://localhost:8080/"
        },
        "id": "9Coh3NWJ4LLu",
        "outputId": "b61c9d04-b97a-4e6e-bbee-eeb9438028c7"
      },
      "execution_count": 28,
      "outputs": [
        {
          "output_type": "stream",
          "name": "stdout",
          "text": [
            "Collecting faiss-cpu\n",
            "  Downloading faiss_cpu-1.8.0.post1-cp310-cp310-manylinux_2_17_x86_64.manylinux2014_x86_64.whl.metadata (3.7 kB)\n",
            "Requirement already satisfied: numpy<2.0,>=1.0 in /usr/local/lib/python3.10/dist-packages (from faiss-cpu) (1.26.4)\n",
            "Requirement already satisfied: packaging in /usr/local/lib/python3.10/dist-packages (from faiss-cpu) (24.1)\n",
            "Downloading faiss_cpu-1.8.0.post1-cp310-cp310-manylinux_2_17_x86_64.manylinux2014_x86_64.whl (27.0 MB)\n",
            "\u001b[?25l   \u001b[90m━━━━━━━━━━━━━━━━━━━━━━━━━━━━━━━━━━━━━━━━\u001b[0m \u001b[32m0.0/27.0 MB\u001b[0m \u001b[31m?\u001b[0m eta \u001b[36m-:--:--\u001b[0m\r\u001b[2K   \u001b[91m━━━━━━━━━\u001b[0m\u001b[91m╸\u001b[0m\u001b[90m━━━━━━━━━━━━━━━━━━━━━━━━━━━━━━\u001b[0m \u001b[32m6.5/27.0 MB\u001b[0m \u001b[31m194.2 MB/s\u001b[0m eta \u001b[36m0:00:01\u001b[0m\r\u001b[2K   \u001b[91m━━━━━━━━━━━━━━━━━━━━━\u001b[0m\u001b[90m╺\u001b[0m\u001b[90m━━━━━━━━━━━━━━━━━━\u001b[0m \u001b[32m14.4/27.0 MB\u001b[0m \u001b[31m226.5 MB/s\u001b[0m eta \u001b[36m0:00:01\u001b[0m\r\u001b[2K   \u001b[91m━━━━━━━━━━━━━━━━━━━━━━━━━━━━━━━━━\u001b[0m\u001b[91m╸\u001b[0m\u001b[90m━━━━━━\u001b[0m \u001b[32m22.8/27.0 MB\u001b[0m \u001b[31m238.8 MB/s\u001b[0m eta \u001b[36m0:00:01\u001b[0m\r\u001b[2K   \u001b[91m━━━━━━━━━━━━━━━━━━━━━━━━━━━━━━━━━━━━━━━\u001b[0m\u001b[91m╸\u001b[0m \u001b[32m27.0/27.0 MB\u001b[0m \u001b[31m242.4 MB/s\u001b[0m eta \u001b[36m0:00:01\u001b[0m\r\u001b[2K   \u001b[91m━━━━━━━━━━━━━━━━━━━━━━━━━━━━━━━━━━━━━━━\u001b[0m\u001b[91m╸\u001b[0m \u001b[32m27.0/27.0 MB\u001b[0m \u001b[31m242.4 MB/s\u001b[0m eta \u001b[36m0:00:01\u001b[0m\r\u001b[2K   \u001b[90m━━━━━━━━━━━━━━━━━━━━━━━━━━━━━━━━━━━━━━━━\u001b[0m \u001b[32m27.0/27.0 MB\u001b[0m \u001b[31m87.0 MB/s\u001b[0m eta \u001b[36m0:00:00\u001b[0m\n",
            "\u001b[?25hInstalling collected packages: faiss-cpu\n",
            "Successfully installed faiss-cpu-1.8.0.post1\n"
          ]
        }
      ]
    },
    {
      "cell_type": "code",
      "source": [
        "# Create Documents and Vectorstore\n",
        "documents = []\n",
        "retrieve_contents = []\n",
        "\n",
        "for e, s in zip(text_elements, text_summaries):\n",
        "    i = str(uuid.uuid4())\n",
        "    doc = Document(\n",
        "        page_content = s,\n",
        "        metadata = {\n",
        "            'id': i,\n",
        "            'type': 'text',\n",
        "            'original_content': e\n",
        "        }\n",
        "    )\n",
        "    retrieve_contents.append((i, e))\n",
        "    documents.append(doc)\n",
        "\n",
        "for e, s in zip(table_elements, table_summaries):\n",
        "    doc = Document(\n",
        "        page_content = s,\n",
        "        metadata = {\n",
        "            'id': i,\n",
        "            'type': 'table',\n",
        "            'original_content': e\n",
        "        }\n",
        "    )\n",
        "    retrieve_contents.append((i, e))\n",
        "    documents.append(doc)\n",
        "\n",
        "for e, s in zip(image_elements, image_summaries):\n",
        "    doc = Document(\n",
        "        page_content = s,\n",
        "        metadata = {\n",
        "            'id': i,\n",
        "            'type': 'image',\n",
        "            'original_content': e\n",
        "        }\n",
        "    )\n",
        "    retrieve_contents.append((i, s))\n",
        "    documents.append(doc)\n",
        "\n",
        "vectorstore = FAISS.from_documents(documents=documents, embedding=GoogleGenerativeAIEmbeddings(model=\"models/embedding-001\"))\n",
        "retriever = vectorstore.as_retriever()"
      ],
      "metadata": {
        "id": "e-zcXkEs5-KC"
      },
      "execution_count": 201,
      "outputs": []
    },
    {
      "cell_type": "code",
      "source": [
        "vectorstore.save_local(\"faiss_index\")"
      ],
      "metadata": {
        "id": "p6_6kMXN6jzZ"
      },
      "execution_count": 202,
      "outputs": []
    },
    {
      "cell_type": "code",
      "source": [
        "prompt_template = \"\"\"\n",
        "You are an expert in maths question solving guides that contains specification, features, etc.\n",
        "Answer the question based only on the following context, which can include text, images and tables:\n",
        "{context}\n",
        "Question: {question}\n",
        "Don't answer if you are not sure and decline to answer and say \"Sorry, I don't have much information about it.\"\n",
        "Just return the helpful answer in as much as detailed possible.\n",
        "Answer:\n",
        "\"\"\""
      ],
      "metadata": {
        "id": "6tjBGbSs6-Go"
      },
      "execution_count": 212,
      "outputs": []
    },
    {
      "cell_type": "code",
      "source": [
        "# chain = (\n",
        "#     {\"context\": retriever, \"question\": RunnablePassthrough()}\n",
        "#     | prompt\n",
        "#     | model\n",
        "#     | StrOutputParser()\n",
        "# )"
      ],
      "metadata": {
        "id": "peyNzF-KFEhX"
      },
      "execution_count": 213,
      "outputs": []
    },
    {
      "cell_type": "code",
      "source": [
        "# from langchain.storage import InMemoryStore\n",
        "# store = InMemoryStore()\n",
        "# id_key = \"doc_id\"\n",
        "# retriever = MultiVectorRetriever(\n",
        "#     vectorstore=vectorstore,\n",
        "#     docstore=store,\n",
        "#     id_key=id_key,\n",
        "# )\n"
      ],
      "metadata": {
        "id": "lOGVvrX6mcu-"
      },
      "execution_count": 214,
      "outputs": []
    },
    {
      "cell_type": "code",
      "source": [
        "qa_chain = LLMChain(llm=ChatGoogleGenerativeAI(model=\"gemini-1.5-pro\", max_tokens=1024),\n",
        "                        prompt=ChatPromptTemplate.from_template(prompt_template))"
      ],
      "metadata": {
        "id": "DJlMy3tv7L-Y",
        "colab": {
          "base_uri": "https://localhost:8080/"
        },
        "outputId": "edab9a96-740b-4925-bf03-b7cca4e799ab"
      },
      "execution_count": 223,
      "outputs": [
        {
          "output_type": "stream",
          "name": "stderr",
          "text": [
            "/usr/local/lib/python3.10/dist-packages/langchain_core/_api/deprecation.py:141: LangChainDeprecationWarning: The class `LLMChain` was deprecated in LangChain 0.1.17 and will be removed in 1.0. Use RunnableSequence, e.g., `prompt | llm` instead.\n",
            "  warn_deprecated(\n"
          ]
        }
      ]
    },
    {
      "cell_type": "code",
      "source": [
        "qa_chain"
      ],
      "metadata": {
        "colab": {
          "base_uri": "https://localhost:8080/"
        },
        "id": "lm48N8nx7SZY",
        "outputId": "7898c3f1-fc74-4815-fb94-7c76af9fa8e2"
      },
      "execution_count": 224,
      "outputs": [
        {
          "output_type": "execute_result",
          "data": {
            "text/plain": [
              "LLMChain(prompt=ChatPromptTemplate(input_variables=['context', 'question'], messages=[HumanMessagePromptTemplate(prompt=PromptTemplate(input_variables=['context', 'question'], template='\\nYou are an expert in maths question solving guides that contains specification, features, etc.\\nAnswer the question based only on the following context, which can include text, images and tables:\\n{context}\\nQuestion: {question}\\nDon\\'t answer if you are not sure and decline to answer and say \"Sorry, I don\\'t have much information about it.\"\\nJust return the helpful answer in as much as detailed possible.\\nAnswer:\\n'))]), llm=ChatGoogleGenerativeAI(model='models/gemini-1.5-pro', client=<google.ai.generativelanguage_v1beta.services.generative_service.client.GenerativeServiceClient object at 0x7908461774f0>, async_client=<google.ai.generativelanguage_v1beta.services.generative_service.async_client.GenerativeServiceAsyncClient object at 0x7908461c9630>, default_metadata=()))"
            ]
          },
          "metadata": {},
          "execution_count": 224
        }
      ]
    },
    {
      "cell_type": "code",
      "source": [
        "from langchain_core.runnables import RunnablePassthrough\n",
        "prompt = ChatPromptTemplate.from_template(prompt_template)\n"
      ],
      "metadata": {
        "id": "OFX0C-bHmJSH"
      },
      "execution_count": 225,
      "outputs": []
    },
    {
      "cell_type": "code",
      "source": [
        "def answer(question):\n",
        "    relevant_docs = vectorstore.similarity_search(question)\n",
        "    context = \"\"\n",
        "    relevant_images = []\n",
        "    for d in relevant_docs:\n",
        "        if d.metadata['type'] == 'text':\n",
        "            context += '[text]' + d.metadata['original_content']\n",
        "        elif d.metadata['type'] == 'table':\n",
        "            context += '[table]' + d.metadata['original_content']\n",
        "        elif d.metadata['type'] == 'image':\n",
        "            context += '[image]' + d.page_content\n",
        "            relevant_images.append(d.metadata['original_content'])\n",
        "    chain = (\n",
        "    {\"context\": lambda x: context, \"question\": RunnablePassthrough()}\n",
        "    | prompt\n",
        "    | model\n",
        "    | StrOutputParser())\n",
        "    result= chain.invoke(question)\n",
        "    # result = qa_chain.run({'context': context, 'question': question})\n",
        "    return result, relevant_images"
      ],
      "metadata": {
        "id": "FSZLfzQV7VEd"
      },
      "execution_count": 239,
      "outputs": []
    },
    {
      "cell_type": "code",
      "source": [
        "q= \"As shown above, a ray of light travels from medium 1 to medium 2, and then enters medium 3. The boundaries are parallel to each other. Arrange the speed of light, c, in the three media in ascending order.\""
      ],
      "metadata": {
        "id": "LWaJCjyz-Deo"
      },
      "execution_count": 240,
      "outputs": []
    },
    {
      "cell_type": "code",
      "source": [
        "result, relevant_images = answer(q)\n",
        "print(result)"
      ],
      "metadata": {
        "colab": {
          "base_uri": "https://localhost:8080/"
        },
        "id": "VKGBIg_P-CQW",
        "outputId": "23c28bbe-7908-4c7c-a242-36e4d9eb78bc"
      },
      "execution_count": 241,
      "outputs": [
        {
          "output_type": "stream",
          "name": "stdout",
          "text": [
            "Here's how to determine the order of the speed of light in the three mediums:\n",
            "\n",
            "**Understanding Refraction**\n",
            "\n",
            "* **Light Speed and Mediums:** Light travels at different speeds through different mediums. Its speed is fastest in a vacuum and slower in other substances. \n",
            "* **Refraction:** When light passes from one medium to another, it changes direction. This bending of light is called refraction.\n",
            "* **Relationship between Speed and Refraction:**\n",
            "    * When light travels from a *faster* medium to a *slower* medium, it bends *towards* the normal (the imaginary line perpendicular to the surface).\n",
            "    * When light travels from a *slower* medium to a *faster* medium, it bends *away* from the normal.\n",
            "\n",
            "**Analyzing the Diagram**\n",
            "\n",
            "1. **Medium 1 to Medium 2:** The light ray bends *towards* the normal. This means the speed of light in medium 1 is *faster* than in medium 2 (c₁ > c₂).\n",
            "\n",
            "2. **Medium 2 to Medium 3:** The light ray bends *away* from the normal. This means the speed of light in medium 2 is *slower* than in medium 3 (c₂ < c₃).\n",
            "\n",
            "**Conclusion**\n",
            "\n",
            "Combining our observations:\n",
            "\n",
            "* c₁ > c₂ \n",
            "* c₂ < c₃ \n",
            "\n",
            "Therefore, the speed of light in the three media in ascending order is: **c₂ < c₁ < c₃** \n",
            "\n",
            "**The correct answer is option D: c₂ < c₁ < c₃** \n",
            "\n"
          ]
        }
      ]
    },
    {
      "cell_type": "code",
      "source": [
        "display.display(display.Image(base64.b64decode(relevant_images[0])))"
      ],
      "metadata": {
        "colab": {
          "base_uri": "https://localhost:8080/",
          "height": 260
        },
        "id": "1l9UUOyJ-Tvo",
        "outputId": "30748e45-5af4-46ef-d4c0-852c4f72410c"
      },
      "execution_count": 242,
      "outputs": [
        {
          "output_type": "display_data",
          "data": {
            "image/jpeg": "[encoded data removed]",
            "text/plain": [
              "<IPython.core.display.Image object>"
            ]
          },
          "metadata": {}
        }
      ]
    },
    {
      "cell_type": "code",
      "source": [
        "q1 = \"A disc of mass 0.1 kg and velocity 5m * s ^ - 1 strikes a stationary disc of mass 0.2 kg on a smooth table. After the collision, the 0.1 kg disc moves with a speed of 3m * s ^ - 1 at 50° to the x direction. Find the component of the velocity of the 0.2 kg disc in y direction, v_{y} after the collision.\""
      ],
      "metadata": {
        "id": "VTRhE0MC-sQI"
      },
      "execution_count": 243,
      "outputs": []
    },
    {
      "cell_type": "code",
      "source": [
        "result, relevant_images = answer(q1)\n",
        "print(result)"
      ],
      "metadata": {
        "colab": {
          "base_uri": "https://localhost:8080/"
        },
        "id": "I2GhVFR6-sNo",
        "outputId": "9c1ab6ec-8918-4683-8bd3-6ddeb46dee7d"
      },
      "execution_count": 244,
      "outputs": [
        {
          "output_type": "stream",
          "name": "stdout",
          "text": [
            "Here's how to solve this problem:\n",
            "\n",
            "**Understanding the Concepts**\n",
            "\n",
            "* **Conservation of Momentum:** In a closed system, the total momentum before a collision equals the total momentum after the collision. Momentum is calculated as mass (m) times velocity (v).\n",
            "* **Two-Dimensional Collisions:**  Since the objects move at an angle after the collision, we need to break down their velocities into x and y components.\n",
            "\n",
            "**Setting up the Solution**\n",
            "\n",
            "1. **Define the variables:**\n",
            "   * m₁ = 0.1 kg (mass of the first disc)\n",
            "   * m₂ = 0.2 kg (mass of the second disc)\n",
            "   * u₁x = 5 m/s (initial x-velocity of the first disc)\n",
            "   * u₁y = 0 m/s (initial y-velocity of the first disc)\n",
            "   * u₂x = 0 m/s (initial x-velocity of the second disc)\n",
            "   * u₂y = 0 m/s (initial y-velocity of the second disc)\n",
            "   * v₁x = 3cos(50°) m/s (final x-velocity of the first disc)\n",
            "   * v₁y = 3sin(50°) m/s (final y-velocity of the first disc)\n",
            "   * v₂x = ? (final x-velocity of the second disc)\n",
            "   * v₂y = ? (final y-velocity of the second disc)\n",
            "\n",
            "2. **Apply conservation of momentum in the x-direction:**\n",
            "   * m₁u₁x + m₂u₂x = m₁v₁x + m₂v₂x\n",
            "\n",
            "3. **Apply conservation of momentum in the y-direction:**\n",
            "   * m₁u₁y + m₂u₂y = m₁v₁y + m₂v₂y\n",
            "\n",
            "**Solving for v₂y**\n",
            "\n",
            "* Since we are only interested in the y-component of the second disc's velocity (v₂y), we can focus on the y-momentum equation.\n",
            "\n",
            "* Substitute the known values into the y-momentum equation:\n",
            "   (0.1 kg)(0 m/s) + (0.2 kg)(0 m/s) = (0.1 kg)(3sin(50°) m/s) + (0.2 kg)(v₂y)\n",
            "\n",
            "* Simplify and solve for v₂y:\n",
            "   0 = 0.23 kg*m/s + 0.2 kg * v₂y\n",
            "   v₂y = -0.23 kg*m/s / 0.2 kg \n",
            "   v₂y = -1.15 m/s\n",
            "\n",
            "**Answer**\n",
            "\n",
            "The component of the velocity of the 0.2 kg disc in the y-direction after the collision is **-1.15 m/s**. The negative sign indicates that the second disc is moving downwards. \n",
            "\n"
          ]
        }
      ]
    },
    {
      "cell_type": "code",
      "source": [
        "relevant_images"
      ],
      "metadata": {
        "colab": {
          "base_uri": "https://localhost:8080/"
        },
        "id": "yXhqVnty-y_m",
        "outputId": "3be63a29-50c4-4a2e-cf6b-258a7e6c368e"
      },
      "execution_count": 245,
      "outputs": [
        {
          "output_type": "execute_result",
          "data": {
            "text/plain": [
              "['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',\n",
              " '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']"
            ]
          },
          "metadata": {},
          "execution_count": 245
        }
      ]
    },
    {
      "cell_type": "code",
      "source": [
        "display.display(display.Image(base64.b64decode(relevant_images[0])))"
      ],
      "metadata": {
        "colab": {
          "base_uri": "https://localhost:8080/",
          "height": 386
        },
        "id": "4dGbEkP6_MTf",
        "outputId": "a5cd7d93-3a19-4ef2-a022-c9f9c38a3d12"
      },
      "execution_count": 246,
      "outputs": [
        {
          "output_type": "display_data",
          "data": {
            "image/jpeg": "[encoded data removed]",
            "text/plain": [
              "<IPython.core.display.Image object>"
            ]
          },
          "metadata": {}
        }
      ]
    },
    {
      "cell_type": "code",
      "source": [
        "# Display result\n",
        "result, relevant_images = answer(\"sprinkler system\")\n",
        "print(result)"
      ],
      "metadata": {
        "colab": {
          "base_uri": "https://localhost:8080/"
        },
        "id": "4qs6aEmU7X1N",
        "outputId": "7368000d-6aa8-427e-c991-d5a719fdaf52"
      },
      "execution_count": null,
      "outputs": [
        {
          "output_type": "stream",
          "name": "stdout",
          "text": [
            "The diagram shows a simplified illustration of a rooftop sprinkler system for cooling purposes. Here's how it works and why it's effective:\n",
            "\n",
            "* **Evaporative Cooling:** The core principle is the process of evaporation. When water droplets from the sprinklers land on the hot rooftop surface, they absorb heat from the roof and the surrounding air. This absorbed heat transforms the liquid water into water vapor (a gas) – the process of evaporation.\n",
            "\n",
            "* **High Latent Heat of Vaporization:**  Water has a high latent heat of vaporization, meaning it requires a significant amount of heat energy to change from liquid to vapor.  As the water droplets on the roof evaporate, they draw this needed heat from their surroundings, effectively cooling down the rooftop surface.\n",
            "\n",
            "* **Continuous Cycle:** The sprinkler system provides a continuous supply of water. As older droplets evaporate, new ones are sprayed on, maintaining the cooling effect.\n",
            "\n",
            "**Benefits:**\n",
            "\n",
            "* **Reduced Cooling Costs:** By lowering the roof's temperature, the sprinkler system can reduce the amount of heat transferred into the building below. This can lead to lower air conditioning costs.\n",
            "* **Environmentally Friendly:** Compared to air conditioning systems, evaporative cooling uses less energy and doesn't rely on harmful refrigerants.\n",
            "\n",
            "**Factors Affecting Efficiency:**\n",
            "\n",
            "* **Ambient Temperature and Humidity:**  Evaporative cooling is most effective in hot, dry climates. High humidity reduces the rate of evaporation, making the system less efficient.\n",
            "* **Wind:**  Wind can aid in the evaporation process, but strong winds might blow away the water droplets before they can effectively cool the roof.\n",
            "\n",
            "Let me know if you'd like more details on any specific aspect! \n",
            "\n"
          ]
        }
      ]
    },
    {
      "cell_type": "code",
      "source": [
        "relevant_images"
      ],
      "metadata": {
        "colab": {
          "base_uri": "https://localhost:8080/"
        },
        "id": "QlXggSz27aqQ",
        "outputId": "25db89ee-9ea1-407c-cfcc-8e20dba67276"
      },
      "execution_count": null,
      "outputs": [
        {
          "output_type": "execute_result",
          "data": {
            "text/plain": [
              "['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',\n",
              " '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',\n",
              " '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']"
            ]
          },
          "metadata": {},
          "execution_count": 41
        }
      ]
    },
    {
      "cell_type": "code",
      "source": [
        "q2 = \"In Figure (a), two identical resistors are connected in series to a cell of e.m.f. V and negligible internal resistance. The power dissipated by each resistor is P. If the two resistors are now connected in parallel as shown in Figure (b), what is the power dissipated by each resistor ?\""
      ],
      "metadata": {
        "id": "gM3p0DnH_OCy"
      },
      "execution_count": 247,
      "outputs": []
    },
    {
      "cell_type": "code",
      "source": [
        "result, relevant_images = answer(q2)\n",
        "print(result)"
      ],
      "metadata": {
        "colab": {
          "base_uri": "https://localhost:8080/"
        },
        "id": "gKZrLWuXHBME",
        "outputId": "e49bde92-400e-4603-d7fe-b1cb8c770a7a"
      },
      "execution_count": 248,
      "outputs": [
        {
          "output_type": "stream",
          "name": "stdout",
          "text": [
            "## Determining Power Dissipation in Series and Parallel Resistors\n",
            "\n",
            "Here's how to solve this problem:\n",
            "\n",
            "**Understanding the Concepts**\n",
            "\n",
            "* **Resistors in Series:** When resistors are connected in series, the total resistance is the sum of the individual resistances (R_total = R1 + R2). The current flowing through each resistor is the same.\n",
            "* **Resistors in Parallel:** When resistors are connected in parallel, the reciprocal of the total resistance is the sum of the reciprocals of the individual resistances (1/R_total = 1/R1 + 1/R2). The voltage across each resistor is the same.\n",
            "* **Power Dissipation:** The power dissipated by a resistor is given by P = V^2/R or P = I^2*R, where V is the voltage across the resistor, I is the current flowing through the resistor, and R is the resistance.\n",
            "\n",
            "**Solving the Problem**\n",
            "\n",
            "1. **Series Connection (Figure a):**\n",
            "   * Let each resistor have resistance R.\n",
            "   * Total resistance: R_total = R + R = 2R\n",
            "   * Current through the circuit: I = V/R_total = V/(2R)\n",
            "   * Power dissipated by each resistor: P = I^2 * R = (V/(2R))^2 * R = V^2 / (4R)\n",
            "\n",
            "2. **Parallel Connection (Figure b):**\n",
            "   * Voltage across each resistor: V (same as the cell's emf)\n",
            "   * Power dissipated by each resistor: P' = V^2 / R\n",
            "\n",
            "3. **Comparing Power Dissipation:**\n",
            "   * Divide the power dissipated in the parallel case (P') by the power dissipated in the series case (P):\n",
            "     P'/P = (V^2/R) / (V^2/(4R)) = 4\n",
            "\n",
            "**Answer:**\n",
            "\n",
            "The power dissipated by each resistor when connected in parallel (Figure b) is **4 times** the power dissipated when they are connected in series (Figure a). Therefore, the correct answer is **B. 4P**. \n",
            "\n"
          ]
        }
      ]
    },
    {
      "cell_type": "code",
      "source": [
        "relevant_images"
      ],
      "metadata": {
        "colab": {
          "base_uri": "https://localhost:8080/"
        },
        "id": "DGi9ItOaHUf9",
        "outputId": "485022c9-a5da-4c2b-d97e-2170b08f37ca"
      },
      "execution_count": 249,
      "outputs": [
        {
          "output_type": "execute_result",
          "data": {
            "text/plain": [
              "['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',\n",
              " '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']"
            ]
          },
          "metadata": {},
          "execution_count": 249
        }
      ]
    },
    {
      "cell_type": "code",
      "source": [
        "display.display(display.Image(base64.b64decode(relevant_images[0])))"
      ],
      "metadata": {
        "colab": {
          "base_uri": "https://localhost:8080/",
          "height": 244
        },
        "id": "69BPWO7kHVqp",
        "outputId": "b5dd9c3b-3e7f-4520-8b66-44d74c4d65bf"
      },
      "execution_count": 250,
      "outputs": [
        {
          "output_type": "display_data",
          "data": {
            "image/jpeg": "[encoded data removed]",
            "text/plain": [
              "<IPython.core.display.Image object>"
            ]
          },
          "metadata": {}
        }
      ]
    },
    {
      "cell_type": "code",
      "source": [],
      "metadata": {
        "id": "Kjn7EgkCHi8D"
      },
      "execution_count": null,
      "outputs": []
    }
  ]
}